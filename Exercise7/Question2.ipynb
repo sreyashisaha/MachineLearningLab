{
 "cells": [
  {
   "attachments": {},
   "cell_type": "markdown",
   "metadata": {},
   "source": [
    "# Feed-Forward Neural Network."
   ]
  },
  {
   "cell_type": "code",
   "execution_count": 1,
   "metadata": {},
   "outputs": [],
   "source": [
    "import numpy as np\n",
    "import matplotlib.pyplot as plt\n",
    "from typing import List\n",
    "import pickle # To store data and trained models\n",
    "from tqdm import tqdm # To visualize progress bars during training"
   ]
  },
  {
   "attachments": {},
   "cell_type": "markdown",
   "metadata": {},
   "source": [
    "We need to train and test the network using the MNIST_784 dataset. We also know that MNIST is a dataset consisting of 70000 grayscale images of handwritten digits. I have downloaded MNIST as a python dictionary (using e.g. scikit-learn) as below and have stored the dataset itself in data and the target in labels."
   ]
  },
  {
   "cell_type": "code",
   "execution_count": 2,
   "metadata": {},
   "outputs": [],
   "source": [
    "from sklearn.datasets import fetch_openml\n",
    "mnist = fetch_openml(name=\"mnist_784\")"
   ]
  },
  {
   "cell_type": "code",
   "execution_count": 3,
   "metadata": {},
   "outputs": [
    {
     "data": {
      "text/plain": [
       "dict_keys(['data', 'target', 'frame', 'categories', 'feature_names', 'target_names', 'DESCR', 'details', 'url'])"
      ]
     },
     "execution_count": 3,
     "metadata": {},
     "output_type": "execute_result"
    }
   ],
   "source": [
    "mnist.keys()"
   ]
  },
  {
   "cell_type": "code",
   "execution_count": 4,
   "metadata": {},
   "outputs": [],
   "source": [
    "data = mnist.data\n",
    "labels = mnist.target"
   ]
  },
  {
   "cell_type": "code",
   "execution_count": 5,
   "metadata": {},
   "outputs": [],
   "source": [
    "# labels.shape"
   ]
  },
  {
   "attachments": {},
   "cell_type": "markdown",
   "metadata": {},
   "source": [
    "### Activation Functions\n",
    "An activation function in a neural network defines how the weighted sum of the input is transformed into an output from a node or nodes in a layer of the network.\n",
    "The activation function is used within or after the internal processing of each node in the network, although networks are designed to use the same activation function for all nodes in a layer.\n",
    "A network may have three types of layers: input layers that take raw input from the domain, hidden layers that take input from another layer and pass output to another layer, and output layers that make a prediction.\n",
    "All hidden layers typically use the same activation function. The output layer will typically use a different activation function from the hidden layers and is dependent upon the type of prediction required by the model.\n",
    "\n",
    "\n",
    "### Activation For Hidden Layers \n",
    "A hidden layer in a neural network is a layer that receives input from another layer (such as another hidden layer or an input layer) and provides output to another layer (such as another hidden layer or an output layer). A neural network may have zero or more hidden layers.\n",
    "Certain activation functions that one may want to consider for use in hidden layers; they are:<br>\n",
    " -  Rectified Linear Activation (ReLU)<br>\n",
    " -  Logistic (Sigmoid)<br>\n",
    " -  Hyperbolic Tangent (Tanh)<br>\n",
    "### Activation Function For Output Layers\n",
    "The output layer is the layer in a neural network model that directly outputs a prediction. All feed-forward neural network models have an output layer.\n",
    "Certain activation functions one may want to consider for use in the output layer; they are:<br>\n",
    " - Linear<br>\n",
    " - Logistic (Sigmoid)<br>\n",
    " - Softmax<br>\n"
   ]
  },
  {
   "cell_type": "code",
   "execution_count": 6,
   "metadata": {},
   "outputs": [],
   "source": [
    "def tanh(z: np.ndarray) -> np.ndarray:\n",
    "    return np.tanh(z)\n",
    "def relu(z: np.ndarray) -> np.ndarray:\n",
    "    return np.maximum(0, z)\n",
    "\n",
    "## For the final layer I have used softmax given that this is a multiclass classification problem.\n",
    "def softmax(z: np.ndarray) -> np.ndarray:\n",
    "    e = np.exp(z - np.max(z))\n",
    "    return e / np.sum(e, axis=0, keepdims=True)\n",
    "\n",
    "def activation_function(function_name: str, z: np.ndarray) -> np.ndarray:\n",
    "    if function_name == \"tanh\":\n",
    "        return 1 - np.square(tanh(z))\n",
    "    if function_name == \"relu\":\n",
    "        y = (z > 0) * 1\n",
    "        return y\n",
    "    return \"No such activation\""
   ]
  },
  {
   "attachments": {},
   "cell_type": "markdown",
   "metadata": {},
   "source": [
    "Before training our network, we are going to need some preprocessing functions:<br>\n",
    " 1. a normalize function to scale the inputs to the [0, 1] range and<br>\n",
    " 2. a one-hot-encode function, which will turn the array of labels from an n-sized vector (where n is the number of samples to an n x m array (where m is the number of possible outputs).\n",
    "There are various ways of scaling features: in this case, I have used min-max scaling (one can also just divide each feature by the number of the possible values a feature can take — in this case, 255):"
   ]
  },
  {
   "cell_type": "code",
   "execution_count": 7,
   "metadata": {},
   "outputs": [],
   "source": [
    "def normalize(x: np.ndarray) -> np.ndarray:\n",
    "    return (x - np.min(x)) / (np.max(x) - np.min(x))\n",
    "def one_hot_encode(x: np.ndarray, num_labels: int) -> np.ndarray:\n",
    "    return np.eye(num_labels)[x]"
   ]
  },
  {
   "attachments": {},
   "cell_type": "markdown",
   "metadata": {},
   "source": [
    "## Implementing the neural network\n",
    "I have implemented the neural netowrk as a class which has the following methods:<br>\n",
    "\n",
    " - an init method\n",
    " - a feed - forward propagation method\n",
    " - implementing backpropagation\n",
    " - training the network\n",
    " - computing the cost function\n",
    " - methods to predict\n",
    " - computing accuracy and potting the same<br>\n",
    "\n",
    "I have passed the following arguments to the constructor:<br>\n",
    " - the training set with the corresponding labels\n",
    " - the test set with its labels\n",
    " - an activation function choice (as a string)\n",
    " - the number of classes we need to predict\n",
    " - the architecture — which we represent as a list, where each element of the list corresponds to a deep layer and indicates the number of neurons in that layer.<br>\n",
    " \n",
    "Then I have used a dictionary to store the layers, and named them with strings in order to keep a track of the layers"
   ]
  },
  {
   "cell_type": "code",
   "execution_count": 8,
   "metadata": {},
   "outputs": [],
   "source": [
    "class NN(object):\n",
    "    def __init__(self, X: np.ndarray, y: np.ndarray, X_test: np.ndarray, y_test: np.ndarray, activation: str, num_labels: int, architecture: List[int]):\n",
    "        self.X = normalize(X) # normalize training data in range 0,1\n",
    "        ## Assertions are simply boolean expressions that check if the conditions return true or not\n",
    "        assert np.all((self.X >= 0) | (self.X <= 1)) # test that normalize succeded\n",
    "        self.X, self.X_test = X.copy(), X_test.copy()\n",
    "        self.y, self.y_test = y.copy(), y_test.copy()\n",
    "        self.layers = {} # define dictionary to store results of activation\n",
    "        self.architecture = architecture # size of hidden layers as array  \n",
    "        self.activation = activation # activation function\n",
    "        assert self.activation in [\"relu\", \"tanh\"]\n",
    "        self.parameters = {}\n",
    "        self.num_labels = num_labels\n",
    "        self.m = X.shape[1]\n",
    "        ## it adds a layer with size m where m is the number of features at the beginning of the architecture list \n",
    "        self.architecture.append(self.num_labels)\n",
    "        self.num_input_features = X.shape[0]\n",
    "        ## adding another layer with size n (the number of classes) at the end\n",
    "        self.architecture.insert(0, self.num_input_features)\n",
    "        self.L = len(architecture) \n",
    "        assert self.X.shape == (self.num_input_features, self.m)\n",
    "        assert self.y.shape == (self.num_labels, self.m)\n",
    "        \n",
    "    def initialize_parameters(self):\n",
    "        # iterate over the number of deep layers (starting at 1 and ending at L-1, where L is the length of the architecture list)\n",
    "        # storing each weight matrix in the dictionary using the key w{i} and each bias vector with key b{i}.\n",
    "        for i in range(1, self.L):\n",
    "            print(f\"Initializing parameters for layer: {i}.\")\n",
    "            # initialize the weights by randomly picking them from a normally distributed sample and scaling them by a factor of 100\n",
    "            self.parameters[\"w\"+str(i)] = np.random.randn(self.architecture[i], self.architecture[i-1]) * 0.01\n",
    "            # the biases are a vector of zeros: one for each node in the layer.\n",
    "            self.parameters[\"b\"+str(i)] = np.zeros((self.architecture[i], 1))\n",
    "    \n",
    "    # For each node in each of the layers except the input and outputs layer, an input (the weighted sum of inputs) and an activation output is required. \n",
    "    # Storing the same in layers dictionary as z{i} and a{i} respectively for each of the i deep layers in the model’s architecture.\n",
    "    def feed_forward(self):\n",
    "        params=self.parameters\n",
    "        self.layers[\"a0\"] = self.X\n",
    "        #  iterate over the range (1, length of the architecture-1)\n",
    "        for l in range(1, self.L-1):\n",
    "            # to obtain layers[zi] for each i in that range calculate the dot product of parameters[wi] and layers[a-i] and add parameters[bi]\n",
    "            self.layers[\"z\" + str(l)] = np.dot(params[\"w\" + str(l)],self.layers[\"a\"+str(l-1)]) + params[\"b\"+str(l)]\n",
    "            # to obtain the activation output layers[ai], apply the activation function of choice to layers[zi]\n",
    "            self.layers[\"a\" + str(l)] = eval(self.activation)(self.layers[\"z\"+str(l)])\n",
    "            # assert self.layers[\"a\"+str(l)].shape == (self.architecture[l], self.m)\n",
    "        # Storing result of the 2nd last layer  and using softmax activation for multiclass classification\n",
    "        self.layers[\"z\" + str(self.L-1)] = np.dot(params[\"w\" + str(self.L-1)],self.layers[\"a\"+str(self.L-2)]) + params[\"b\"+str(self.L-1)]\n",
    "        self.layers[\"a\"+str(self.L-1)] = softmax(self.layers[\"z\"+str(self.L-1)])\n",
    "        # Classificaion Result of the final layer or output layer\n",
    "        self.output = self.layers[\"a\"+str(self.L-1)]\n",
    "        \n",
    "        assert self.output.shape == (self.num_labels, self.m)\n",
    "        assert all([s for s in np.sum(self.output, axis=1)])        \n",
    "        # Calculating cost function using negative log-likelihood\n",
    "        # cost = np.sum((self.y - self.output)**2)\n",
    "        cost = - np.sum(self.y * np.log(self.output + 0.000000001))\n",
    "\n",
    "        return cost, self.layers\n",
    "\n",
    "    # Backpropagation\n",
    "    def backpropagate(self):\n",
    "        #  initialize an empty derivatives dictionary to store the gradients and iterate over the layers from right to left\n",
    "        derivatives = {}\n",
    "        # For the outmost layer, dz is simply the result of output — ground truths\n",
    "        dZ = self.output - self.y\n",
    "        # assert dZ.shape == (self.num_labels, self.m)# Checking if the shape of the computed output layer matches\n",
    "        # There are as many rows as there are labels and as many columns as there are training examples.\n",
    "        # Transpose it to compute teh dot product of dz with the values stored in layers\n",
    "        dW = np.dot(dZ, self.layers[\"a\" + str(self.L-2)].T) / self.m\n",
    "        db = np.sum(dZ, axis=1, keepdims=True) / self.m\n",
    "        dAPrev = np.dot(self.parameters[\"w\" + str(self.L-1)].T, dZ)\n",
    "        # Updating the weights and biases, respectively for the 2nd last layer\n",
    "        derivatives[\"dW\" + str(self.L-1)] = dW\n",
    "        derivatives[\"db\" + str(self.L-1)] = db\n",
    "        \n",
    "        for l in range(self.L-2, 0, -1):\n",
    "            # For each layer, compute dZ and use it to calculate that layer’s dW and dB \n",
    "            dZ = dAPrev * activation_function(self.activation, self.layers[\"z\" + str(l)]) \n",
    "            # the gradients for the weights are the dot product of dz and the transpose of the activation from the previous layer \n",
    "            dW = 1. / self.m * np.dot(dZ, self.layers[\"a\" + str(l-1)].T)\n",
    "            # the gradients for the biases are just the averaged dz \n",
    "            # (keepdims=True or else the array will be squished to shape (1, ) as a rank-1 array which might lead to ambiguous results\n",
    "            db = 1. / self.m * np.sum(dZ, axis=1, keepdims=True)\n",
    "            if l > 1:\n",
    "                # storing the gradients for that layer’s activation in a variable dAPrev\n",
    "                dAPrev = np.dot(self.parameters[\"w\" + str(l)].T, (dZ))\n",
    "            # Updating the weights and biases, respectively\n",
    "            derivatives[\"dW\" + str(l)] = dW\n",
    "            derivatives[\"db\" + str(l)] = db \n",
    "        \n",
    "        # return the derivatives dictionary defined initially\n",
    "        self.derivatives = derivatives\n",
    "        \n",
    "        return self.derivatives\n",
    "\n",
    "    \n",
    "    # Putting it all together to train the network. Pass a learning rate and a number of epochs to the fit method.\n",
    "    def fit(self, lr, epochs):\n",
    "        self.costs = [] \n",
    "        # train the model by calling initialize_parameters\n",
    "        self.initialize_parameters()\n",
    "        # Storing the list of training and testing accuracies in a dictionary\n",
    "        self.accuracies = {\"train\": [], \"test\": []}\n",
    "        for epoch in tqdm(range(epochs), colour=\"BLUE\"):\n",
    "            cost, final_layer = self.feed_forward()\n",
    "            self.costs.append(cost)\n",
    "            derivatives = self.backpropagate()            \n",
    "            for layer in range(1, self.L):\n",
    "                self.parameters[\"w\"+str(layer)] = self.parameters[\"w\"+str(layer)] - lr * derivatives[\"dW\" + str(layer)]\n",
    "                self.parameters[\"b\"+str(layer)] = self.parameters[\"b\"+str(layer)] - lr * derivatives[\"db\" + str(layer)]            \n",
    "            train_accuracy = self.accuracy(self.X, self.y)\n",
    "            test_accuracy = self.accuracy(self.X_test, self.y_test)\n",
    "            # Displaying the Performance on the training and test sets \n",
    "            if epoch % 10 == 0:\n",
    "                print(f\"Epoch: {epoch:3d} | Cost: {cost:.3f} | Training Accuracy: {train_accuracy:.3f}\")\n",
    "                print(f\"Epoch: {epoch:3d} | Cost: {cost:.3f} | Testing Accuracy: {test_accuracy:.3f}\")\n",
    "            self.accuracies[\"train\"].append(train_accuracy)\n",
    "            self.accuracies[\"test\"].append(test_accuracy)\n",
    "        print(\"Training terminated\")\n",
    "\n",
    "    # Predicting the class of final output layer\n",
    "    def predict(self, x):\n",
    "        params = self.parameters\n",
    "        n_layers = self.L - 1\n",
    "        values = [x]\n",
    "        for l in range(1, n_layers):\n",
    "            z = np.dot(params[\"w\" + str(l)], values[l-1]) + params[\"b\" + str(l)]\n",
    "            a = eval(self.activation)(z)\n",
    "            values.append(a)\n",
    "        z = np.dot(params[\"w\"+str(n_layers)], values[n_layers-1]) + params[\"b\"+str(n_layers)]\n",
    "        a = softmax(z)\n",
    "        if x.shape[1]>1:\n",
    "            ans = np.argmax(a, axis=0)\n",
    "        else:\n",
    "            ans = np.argmax(a)\n",
    "        return ans\n",
    "    \n",
    "    # Finding the accuracy \n",
    "    def accuracy(self, X, y):\n",
    "        P = self.predict(X)\n",
    "        return sum(np.equal(P, np.argmax(y, axis=0))) / y.shape[1]*100\n",
    "    \n",
    "    # Plotting the cost values\n",
    "    def plot_cost(self, lr):\n",
    "        plt.figure(figsize=(8, 4))\n",
    "        plt.plot(np.arange(0, len(self.costs)), self.costs, lw=1, color=\"orange\")\n",
    "        plt.title(f\"Learning rate: {lr}\\nFinal Cost: {self.costs[-1]:.5f}\", fontdict={\"family\":\"sans-serif\",\"size\": \"12\"})\n",
    "        plt.xlabel(\"Epoch\")\n",
    "        plt.ylabel(\"Cost\")\n",
    "        plt.show()\n",
    "    \n",
    "    # Plotting the training and testing accuracies\n",
    "    def plot_accuracies(self, lr):\n",
    "        acc = self.accuracies\n",
    "        fig = plt.figure(figsize=(6,4))\n",
    "        ax = fig.add_subplot(111)\n",
    "        ax.plot(acc[\"train\"], label=\"train\")\n",
    "        ax.plot(acc[\"test\"], label=\"test\")\n",
    "        plt.legend(loc=\"lower right\")\n",
    "        ax.set_title(\"Accuracy\")\n",
    "        ax.annotate(f\"Train: {acc['train'][-1]:.2f}\", (len(acc[\"train\"])+4, acc[\"train\"][-1]+2), color=\"blue\")\n",
    "        ax.annotate(f\"Test: {acc['test'][-1]:.2f}\", (len(acc[\"test\"])+4, acc[\"test\"][-1]-2), color=\"orange\")\n",
    "        ax.spines[\"right\"].set_visible(False)\n",
    "        ax.spines[\"top\"].set_visible(False)\n",
    "        plt.show()"
   ]
  },
  {
   "cell_type": "code",
   "execution_count": 9,
   "metadata": {},
   "outputs": [
    {
     "data": {
      "text/plain": [
       "((784, 56000), (784, 14000))"
      ]
     },
     "execution_count": 9,
     "metadata": {},
     "output_type": "execute_result"
    }
   ],
   "source": [
    "train_test_split_no = 56000\n",
    "X_train = data.values[:train_test_split_no].T\n",
    "y_train = labels[:train_test_split_no].values.astype(int)\n",
    "y_train = one_hot_encode(y_train, 10).T\n",
    "X_test = data.values[train_test_split_no:].T\n",
    "y_test = labels[train_test_split_no:].values.astype(int)\n",
    "y_test = one_hot_encode(y_test, 10).T\n",
    "X_train.shape, X_test.shape"
   ]
  },
  {
   "cell_type": "code",
   "execution_count": 10,
   "metadata": {},
   "outputs": [],
   "source": [
    "PARAMS = [X_train, y_train, X_test, y_test, \"relu\", 10, [512, 300]]"
   ]
  },
  {
   "cell_type": "code",
   "execution_count": 11,
   "metadata": {},
   "outputs": [],
   "source": [
    "nn_relu = NN(*PARAMS)\n",
    "epochs_relu = 50\n",
    "lr_relu = 0.003"
   ]
  },
  {
   "cell_type": "code",
   "execution_count": 12,
   "metadata": {},
   "outputs": [
    {
     "name": "stdout",
     "output_type": "stream",
     "text": [
      "Initializing parameters for layer: 1.\n",
      "Initializing parameters for layer: 2.\n",
      "Initializing parameters for layer: 3.\n"
     ]
    },
    {
     "name": "stderr",
     "output_type": "stream",
     "text": [
      "  2%|\u001b[34m▏         \u001b[0m| 1/50 [00:05<04:51,  5.95s/it]"
     ]
    },
    {
     "name": "stdout",
     "output_type": "stream",
     "text": [
      "Epoch:   0 | Cost: 133605.760 | Training Accuracy: 22.804\n",
      "Epoch:   0 | Cost: 133605.760 | Testing Accuracy: 23.243\n"
     ]
    },
    {
     "name": "stderr",
     "output_type": "stream",
     "text": [
      " 22%|\u001b[34m██▏       \u001b[0m| 11/50 [01:04<03:47,  5.82s/it]"
     ]
    },
    {
     "name": "stdout",
     "output_type": "stream",
     "text": [
      "Epoch:  10 | Cost: 70041.995 | Training Accuracy: 75.591\n",
      "Epoch:  10 | Cost: 70041.995 | Testing Accuracy: 77.579\n"
     ]
    },
    {
     "name": "stderr",
     "output_type": "stream",
     "text": [
      " 42%|\u001b[34m████▏     \u001b[0m| 21/50 [02:09<02:52,  5.94s/it]"
     ]
    },
    {
     "name": "stdout",
     "output_type": "stream",
     "text": [
      "Epoch:  20 | Cost: 43841.438 | Training Accuracy: 82.454\n",
      "Epoch:  20 | Cost: 43841.438 | Testing Accuracy: 84.300\n"
     ]
    },
    {
     "name": "stderr",
     "output_type": "stream",
     "text": [
      " 62%|\u001b[34m██████▏   \u001b[0m| 31/50 [03:08<01:52,  5.93s/it]"
     ]
    },
    {
     "name": "stdout",
     "output_type": "stream",
     "text": [
      "Epoch:  30 | Cost: 33677.899 | Training Accuracy: 85.305\n",
      "Epoch:  30 | Cost: 33677.899 | Testing Accuracy: 87.057\n"
     ]
    },
    {
     "name": "stderr",
     "output_type": "stream",
     "text": [
      " 82%|\u001b[34m████████▏ \u001b[0m| 41/50 [04:08<00:54,  6.03s/it]"
     ]
    },
    {
     "name": "stdout",
     "output_type": "stream",
     "text": [
      "Epoch:  40 | Cost: 28630.236 | Training Accuracy: 86.875\n",
      "Epoch:  40 | Cost: 28630.236 | Testing Accuracy: 88.643\n"
     ]
    },
    {
     "name": "stderr",
     "output_type": "stream",
     "text": [
      "100%|\u001b[34m██████████\u001b[0m| 50/50 [05:00<00:00,  6.02s/it]"
     ]
    },
    {
     "name": "stdout",
     "output_type": "stream",
     "text": [
      "Training terminated\n"
     ]
    },
    {
     "name": "stderr",
     "output_type": "stream",
     "text": [
      "\n"
     ]
    }
   ],
   "source": [
    "nn_relu.fit(lr=lr_relu, epochs=epochs_relu)"
   ]
  },
  {
   "cell_type": "code",
   "execution_count": 13,
   "metadata": {},
   "outputs": [
    {
     "data": {
      "image/png": "[encoded data removed]",
      "text/plain": [
       "<Figure size 576x288 with 1 Axes>"
      ]
     },
     "metadata": {
      "needs_background": "light"
     },
     "output_type": "display_data"
    }
   ],
   "source": [
    "nn_relu.plot_cost(lr_relu)"
   ]
  },
  {
   "cell_type": "code",
   "execution_count": 14,
   "metadata": {},
   "outputs": [
    {
     "data": {
      "image/png": "[encoded data removed]",
      "text/plain": [
       "<Figure size 432x288 with 1 Axes>"
      ]
     },
     "metadata": {
      "needs_background": "light"
     },
     "output_type": "display_data"
    }
   ],
   "source": [
    "nn_relu.plot_accuracies(lr_relu)"
   ]
  },
  {
   "cell_type": "code",
   "execution_count": 15,
   "metadata": {},
   "outputs": [],
   "source": [
    "PARAMS = [X_train, y_train, X_test, y_test, \"tanh\", 10, [512, 300]]\n",
    "nn_tanh = NN(*PARAMS)\n",
    "epochs_tanh = 100\n",
    "lr_tanh = 0.003"
   ]
  },
  {
   "cell_type": "code",
   "execution_count": 16,
   "metadata": {},
   "outputs": [
    {
     "name": "stdout",
     "output_type": "stream",
     "text": [
      "Initializing parameters for layer: 1.\n",
      "Initializing parameters for layer: 2.\n",
      "Initializing parameters for layer: 3.\n"
     ]
    },
    {
     "name": "stderr",
     "output_type": "stream",
     "text": [
      "  1%|\u001b[34m          \u001b[0m| 1/100 [00:10<17:45, 10.76s/it]"
     ]
    },
    {
     "name": "stdout",
     "output_type": "stream",
     "text": [
      "Epoch:   0 | Cost: 129100.337 | Training Accuracy: 10.573\n",
      "Epoch:   0 | Cost: 129100.337 | Testing Accuracy: 10.643\n"
     ]
    },
    {
     "name": "stderr",
     "output_type": "stream",
     "text": [
      " 11%|\u001b[34m█         \u001b[0m| 11/100 [01:25<11:00,  7.42s/it]"
     ]
    },
    {
     "name": "stdout",
     "output_type": "stream",
     "text": [
      "Epoch:  10 | Cost: 128334.455 | Training Accuracy: 20.982\n",
      "Epoch:  10 | Cost: 128334.455 | Testing Accuracy: 20.921\n"
     ]
    },
    {
     "name": "stderr",
     "output_type": "stream",
     "text": [
      " 21%|\u001b[34m██        \u001b[0m| 21/100 [02:40<09:59,  7.59s/it]"
     ]
    },
    {
     "name": "stdout",
     "output_type": "stream",
     "text": [
      "Epoch:  20 | Cost: 127568.080 | Training Accuracy: 31.977\n",
      "Epoch:  20 | Cost: 127568.080 | Testing Accuracy: 31.807\n"
     ]
    },
    {
     "name": "stderr",
     "output_type": "stream",
     "text": [
      " 31%|\u001b[34m███       \u001b[0m| 31/100 [03:55<08:32,  7.43s/it]"
     ]
    },
    {
     "name": "stdout",
     "output_type": "stream",
     "text": [
      "Epoch:  30 | Cost: 126791.770 | Training Accuracy: 41.389\n",
      "Epoch:  30 | Cost: 126791.770 | Testing Accuracy: 41.771\n"
     ]
    },
    {
     "name": "stderr",
     "output_type": "stream",
     "text": [
      " 41%|\u001b[34m████      \u001b[0m| 41/100 [05:06<06:59,  7.11s/it]"
     ]
    },
    {
     "name": "stdout",
     "output_type": "stream",
     "text": [
      "Epoch:  40 | Cost: 125997.293 | Training Accuracy: 48.679\n",
      "Epoch:  40 | Cost: 125997.293 | Testing Accuracy: 49.200\n"
     ]
    },
    {
     "name": "stderr",
     "output_type": "stream",
     "text": [
      " 51%|\u001b[34m█████     \u001b[0m| 51/100 [06:21<05:58,  7.31s/it]"
     ]
    },
    {
     "name": "stdout",
     "output_type": "stream",
     "text": [
      "Epoch:  50 | Cost: 125179.378 | Training Accuracy: 53.802\n",
      "Epoch:  50 | Cost: 125179.378 | Testing Accuracy: 54.221\n"
     ]
    },
    {
     "name": "stderr",
     "output_type": "stream",
     "text": [
      " 61%|\u001b[34m██████    \u001b[0m| 61/100 [07:31<04:32,  7.00s/it]"
     ]
    },
    {
     "name": "stdout",
     "output_type": "stream",
     "text": [
      "Epoch:  60 | Cost: 124334.527 | Training Accuracy: 57.514\n",
      "Epoch:  60 | Cost: 124334.527 | Testing Accuracy: 58.057\n"
     ]
    },
    {
     "name": "stderr",
     "output_type": "stream",
     "text": [
      " 71%|\u001b[34m███████   \u001b[0m| 71/100 [08:42<03:24,  7.05s/it]"
     ]
    },
    {
     "name": "stdout",
     "output_type": "stream",
     "text": [
      "Epoch:  70 | Cost: 123455.063 | Training Accuracy: 60.332\n",
      "Epoch:  70 | Cost: 123455.063 | Testing Accuracy: 61.000\n"
     ]
    },
    {
     "name": "stderr",
     "output_type": "stream",
     "text": [
      " 81%|\u001b[34m████████  \u001b[0m| 81/100 [09:53<02:12,  6.95s/it]"
     ]
    },
    {
     "name": "stdout",
     "output_type": "stream",
     "text": [
      "Epoch:  80 | Cost: 122533.820 | Training Accuracy: 62.314\n",
      "Epoch:  80 | Cost: 122533.820 | Testing Accuracy: 63.214\n"
     ]
    },
    {
     "name": "stderr",
     "output_type": "stream",
     "text": [
      " 91%|\u001b[34m█████████ \u001b[0m| 91/100 [11:02<01:02,  6.95s/it]"
     ]
    },
    {
     "name": "stdout",
     "output_type": "stream",
     "text": [
      "Epoch:  90 | Cost: 121567.833 | Training Accuracy: 63.948\n",
      "Epoch:  90 | Cost: 121567.833 | Testing Accuracy: 65.179\n"
     ]
    },
    {
     "name": "stderr",
     "output_type": "stream",
     "text": [
      "100%|\u001b[34m██████████\u001b[0m| 100/100 [12:05<00:00,  7.25s/it]"
     ]
    },
    {
     "name": "stdout",
     "output_type": "stream",
     "text": [
      "Training terminated\n"
     ]
    },
    {
     "name": "stderr",
     "output_type": "stream",
     "text": [
      "\n"
     ]
    }
   ],
   "source": [
    "nn_tanh.fit(lr=lr_tanh, epochs=epochs_tanh)"
   ]
  },
  {
   "cell_type": "code",
   "execution_count": 17,
   "metadata": {},
   "outputs": [
    {
     "data": {
      "image/png": "[encoded data removed]",
      "text/plain": [
       "<Figure size 576x288 with 1 Axes>"
      ]
     },
     "metadata": {
      "needs_background": "light"
     },
     "output_type": "display_data"
    }
   ],
   "source": [
    "nn_tanh.plot_cost(lr_tanh)"
   ]
  },
  {
   "cell_type": "code",
   "execution_count": 18,
   "metadata": {},
   "outputs": [
    {
     "data": {
      "image/png": "[encoded data removed]",
      "text/plain": [
       "<Figure size 432x288 with 1 Axes>"
      ]
     },
     "metadata": {
      "needs_background": "light"
     },
     "output_type": "display_data"
    }
   ],
   "source": [
    "nn_tanh.plot_accuracies(lr_tanh)"
   ]
  },
  {
   "cell_type": "code",
   "execution_count": null,
   "metadata": {},
   "outputs": [],
   "source": []
  }
 ],
 "metadata": {
  "kernelspec": {
   "display_name": "Python 3",
   "language": "python",
   "name": "python3"
  },
  "language_info": {
   "codemirror_mode": {
    "name": "ipython",
    "version": 3
   },
   "file_extension": ".py",
   "mimetype": "text/x-python",
   "name": "python",
   "nbconvert_exporter": "python",
   "pygments_lexer": "ipython3",
   "version": "3.9.13"
  },
  "orig_nbformat": 4,
  "vscode": {
   "interpreter": {
    "hash": "b0fa6594d8f4cbf19f97940f81e996739fb7646882a419484c72d19e05852a7e"
   }
  }
 },
 "nbformat": 4,
 "nbformat_minor": 2
}
