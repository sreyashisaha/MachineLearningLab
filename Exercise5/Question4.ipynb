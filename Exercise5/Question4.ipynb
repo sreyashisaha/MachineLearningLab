{
 "cells": [
  {
   "attachments": {},
   "cell_type": "markdown",
   "metadata": {},
   "source": [
    "# 4 Custom Linear regression using Inheritance"
   ]
  },
  {
   "cell_type": "code",
   "execution_count": 21,
   "metadata": {},
   "outputs": [],
   "source": [
    "# import the required module from scikit learn\n",
    "import numpy as np\n",
    "from sklearn import metrics\n",
    "from sklearn.base import BaseEstimator\n",
    "from sklearn.base import RegressorMixin\n",
    "from sklearn.linear_model import LinearRegression\n",
    "from sklearn.utils.estimator_checks import check_estimator\n",
    "from sklearn.utils.estimator_checks import check_estimators_nan_inf\n",
    "from sklearn.utils.estimator_checks import parametrize_with_checks\n",
    "from sklearn.utils.validation import check_is_fitted,check_X_y,check_array\n",
    "from sklearn.model_selection import train_test_split\n",
    "from numpy import isnan, isinf, float64\n",
    "from sklearn.metrics import r2_score"
   ]
  },
  {
   "attachments": {},
   "cell_type": "markdown",
   "metadata": {},
   "source": [
    "\n",
    "1. Create a python class called MyLinearRegression\n",
    "2. Ensure your class inherit from sklearn BaseEstimator and RegressorMixin\n",
    "3. Implement fit(X,Y) method, and returns self\n",
    "4. Implement predict(X) method"
   ]
  },
  {
   "cell_type": "code",
   "execution_count": 22,
   "metadata": {},
   "outputs": [],
   "source": [
    "class MyLinearregression(BaseEstimator, RegressorMixin):\n",
    "    \n",
    "    def find_covariance(self, x, mean_x, y, mean_y):\n",
    "        covariance = 0.0\n",
    "        for i in range(len(x)):\n",
    "            covariance += (x[i] - mean_x) * (y[i] - mean_y)\n",
    "        return covariance\n",
    "    \n",
    "    def variance(self, x, mean_x):\n",
    "        var = 0.0\n",
    "        for i in range(len(x)):\n",
    "            var += (x[i] - mean_x) * (x[i] - mean_x)\n",
    "        return var\n",
    "\n",
    "    def find_B0_B1(self, X, Y):\n",
    "        beta1= 0\n",
    "        beta0 = 0\n",
    "        x = X\n",
    "        y = Y\n",
    "        x_mean = np.mean(x)\n",
    "        y_mean = np.mean(y)\n",
    "        beta1 = self.find_covariance(x, x_mean, y, y_mean) / self.variance(x,x_mean)\n",
    "        beta0 = y_mean - beta1 * x_mean\n",
    "        return beta1, beta0\n",
    "    \n",
    "    def fit(self, X,y):\n",
    "        self.coeff_ , self.intercept_ = self.find_B0_B1(X,y)\n",
    "\n",
    "    def predict(self, X):\n",
    "        predicted = self.intercept_ + self.coeff_ * X\n",
    "        return predicted\n"
   ]
  },
  {
   "attachments": {},
   "cell_type": "markdown",
   "metadata": {},
   "source": [
    "6. Fit the dataset below using your custom estimator. Remember 80:20 split"
   ]
  },
  {
   "cell_type": "code",
   "execution_count": 23,
   "metadata": {},
   "outputs": [
    {
     "data": {
      "text/plain": [
       "array([6.  , 4.83, 3.7 , 3.15, 2.14, 1.83, 1.49, 1.21, 0.96, 0.73, 0.64])"
      ]
     },
     "execution_count": 23,
     "metadata": {},
     "output_type": "execute_result"
    }
   ],
   "source": [
    "X = np.arange(0,5.5,0.5)\n",
    "# X\n",
    "y = np.array([6,4.83,3.7,3.15,2.14,1.83,1.49,1.21,0.96,0.73,0.64])\n",
    "y"
   ]
  },
  {
   "cell_type": "code",
   "execution_count": 24,
   "metadata": {},
   "outputs": [
    {
     "name": "stdout",
     "output_type": "stream",
     "text": [
      " X_Train Shape :  (8, 1) \n",
      "X_Valid Shape :  (3, 1) \n",
      "Y_Train Shape :  (8, 1) \n",
      "Y_valid Shape :  (3, 1)\n"
     ]
    }
   ],
   "source": [
    "X = X.reshape(-1,1)\n",
    "y = y.reshape(-1,1)\n",
    "x_train , x_valid, y_train, y_valid = train_test_split(X, y , test_size=0.2)\n",
    "print(\" X_Train Shape : \",x_train.shape,\"\\nX_Valid Shape : \",x_valid.shape,\"\\nY_Train Shape : \",y_train.shape,\"\\nY_valid Shape : \",y_valid.shape)"
   ]
  },
  {
   "cell_type": "code",
   "execution_count": 25,
   "metadata": {},
   "outputs": [
    {
     "name": "stdout",
     "output_type": "stream",
     "text": [
      "\n",
      "X_train :\n",
      " [[0. ]\n",
      " [5. ]\n",
      " [1.5]\n",
      " [4.5]\n",
      " [3.5]\n",
      " [2.5]\n",
      " [1. ]\n",
      " [2. ]]\n",
      "\n",
      "Y_train :\n",
      " [[6.  ]\n",
      " [0.64]\n",
      " [3.15]\n",
      " [0.73]\n",
      " [1.21]\n",
      " [1.83]\n",
      " [3.7 ]\n",
      " [2.14]]\n",
      "\n",
      "X_Test :\n",
      " [[4. ]\n",
      " [3. ]\n",
      " [0.5]]\n",
      "\n",
      "Y_test :\n",
      " [[0.96]\n",
      " [1.49]\n",
      " [4.83]]\n"
     ]
    }
   ],
   "source": [
    "print(\"\\nX_train :\\n\",x_train)\n",
    "print(\"\\nY_train :\\n\",y_train)\n",
    "print(\"\\nX_Test :\\n\",x_valid)\n",
    "print(\"\\nY_test :\\n\",y_valid)"
   ]
  },
  {
   "cell_type": "code",
   "execution_count": 26,
   "metadata": {},
   "outputs": [
    {
     "name": "stdout",
     "output_type": "stream",
     "text": [
      "\n",
      "X_train shape :\n",
      " (8, 1)\n",
      "\n",
      "Y_train shape  :\n",
      " (8, 1)\n",
      "\n",
      "X_Test shape  :\n",
      " (3, 1)\n",
      "\n",
      "Y_test shape  :\n",
      " (3, 1)\n"
     ]
    }
   ],
   "source": [
    "print(\"\\nX_train shape :\\n\",x_train.shape)\n",
    "print(\"\\nY_train shape  :\\n\",y_train.shape)\n",
    "print(\"\\nX_Test shape  :\\n\",x_valid.shape)\n",
    "print(\"\\nY_test shape  :\\n\",y_valid.shape)"
   ]
  },
  {
   "cell_type": "code",
   "execution_count": 27,
   "metadata": {},
   "outputs": [],
   "source": [
    "model = MyLinearregression()\n",
    "model.fit(x_train, y_train)\n",
    "y_pred = model.predict(x_valid)\n",
    "R_score = r2_score(y_valid, y_pred)"
   ]
  },
  {
   "cell_type": "code",
   "execution_count": 28,
   "metadata": {},
   "outputs": [
    {
     "name": "stdout",
     "output_type": "stream",
     "text": [
      "The predicted Y_values after fitting the simple linear regression model is: \n",
      "\n"
     ]
    },
    {
     "data": {
      "text/plain": [
       "array([[0.96071429],\n",
       "       [1.93690476],\n",
       "       [4.37738095]])"
      ]
     },
     "execution_count": 28,
     "metadata": {},
     "output_type": "execute_result"
    }
   ],
   "source": [
    "print(\"The predicted Y_values after fitting the simple linear regression model is: \\n\")\n",
    "y_pred"
   ]
  },
  {
   "cell_type": "code",
   "execution_count": 29,
   "metadata": {},
   "outputs": [
    {
     "name": "stdout",
     "output_type": "stream",
     "text": [
      " The predicted R_2 Score is:\t  0.9540473723165355\n"
     ]
    }
   ],
   "source": [
    "print(\" The predicted R_2 Score is:\\t \",R_score)"
   ]
  },
  {
   "attachments": {},
   "cell_type": "markdown",
   "metadata": {},
   "source": [
    "5. Use check estimator() method to know if your estimator(MyLinearRegression) is valid"
   ]
  },
  {
   "cell_type": "code",
   "execution_count": 30,
   "metadata": {},
   "outputs": [
    {
     "data": {
      "text/plain": [
       "<generator object check_estimator.<locals>.checks_generator at 0x11ff0a430>"
      ]
     },
     "execution_count": 30,
     "metadata": {},
     "output_type": "execute_result"
    }
   ],
   "source": [
    "check_estimator(MyLinearregression(),generate_only = True)"
   ]
  },
  {
   "cell_type": "code",
   "execution_count": null,
   "metadata": {},
   "outputs": [],
   "source": []
  }
 ],
 "metadata": {
  "kernelspec": {
   "display_name": "Python 3.9.13 64-bit",
   "language": "python",
   "name": "python3"
  },
  "language_info": {
   "codemirror_mode": {
    "name": "ipython",
    "version": 3
   },
   "file_extension": ".py",
   "mimetype": "text/x-python",
   "name": "python",
   "nbconvert_exporter": "python",
   "pygments_lexer": "ipython3",
   "version": "3.9.13 (main, May 24 2022, 21:13:51) \n[Clang 13.1.6 (clang-1316.0.21.2)]"
  },
  "orig_nbformat": 4,
  "vscode": {
   "interpreter": {
    "hash": "b0fa6594d8f4cbf19f97940f81e996739fb7646882a419484c72d19e05852a7e"
   }
  }
 },
 "nbformat": 4,
 "nbformat_minor": 2
}
