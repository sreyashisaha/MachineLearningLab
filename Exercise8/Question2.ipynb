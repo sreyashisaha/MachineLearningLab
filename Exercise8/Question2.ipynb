{
 "cells": [
  {
   "cell_type": "code",
   "execution_count": 1,
   "metadata": {
    "id": "0MsSjKwnyPgS"
   },
   "outputs": [],
   "source": [
    "# pip install tensorflow"
   ]
  },
  {
   "cell_type": "markdown",
   "metadata": {
    "id": "wH3xeEcMIqiL"
   },
   "source": [
    "# NLP - Word2Vec Model\n",
    "\n",
    "The CBOW model architecture tries to predict the current target word (the center word) based on the source context words (surrounding words). For example consider a simple sentence, “the quick brown fox jumps over the lazy dog”, this can be pairs of (context_window, target_word) where if we consider a context window of size 2, we have examples like ([quick, fox], brown), ([the, brown], quick), ([the, dog], lazy) and so on. Thus the model tries to predict the target_word based on the context_window words."
   ]
  },
  {
   "cell_type": "code",
   "execution_count": 106,
   "metadata": {
    "id": "GjwW-n_wyPgW"
   },
   "outputs": [],
   "source": [
    "import nltk\n",
    "import numpy as np\n",
    "from string import punctuation\n",
    "import re\n",
    "import tensorflow as tf\n",
    "from keras.preprocessing import text\n",
    "import pandas as pd\n",
    "from keras.utils import pad_sequences\n",
    "from keras.utils import np_utils"
   ]
  },
  {
   "cell_type": "markdown",
   "metadata": {
    "id": "YtmP4-t9Ja4K"
   },
   "source": [
    "The Word2Vec family of models are unsupervised, which means that one can just give it a corpus without additional labels or information and it can construct dense word embeddings from the corpus. But one still needs to leverage a supervised, classification methodology once corpus is in hand to get to these embeddings. This is done within the corpus itself, without any auxiliary information. I have model this CBOW architecture as a deep learning classification model such that I take in the context words as my input, X and try to predict the target word, Y."
   ]
  },
  {
   "cell_type": "code",
   "execution_count": 90,
   "metadata": {
    "colab": {
     "base_uri": "https://localhost:8080/"
    },
    "id": "9DI8f-qsC3Go",
    "outputId": "0b98b768-79ea-44bf-a91a-9a9e92843d56"
   },
   "outputs": [
    {
     "name": "stdout",
     "output_type": "stream",
     "text": [
      "Drive already mounted at /content/drive; to attempt to forcibly remount, call drive.mount(\"/content/drive\", force_remount=True).\n"
     ]
    }
   ],
   "source": [
    "from google.colab import drive\n",
    "drive.mount('/content/drive')"
   ]
  },
  {
   "cell_type": "code",
   "execution_count": 107,
   "metadata": {
    "colab": {
     "base_uri": "https://localhost:8080/"
    },
    "id": "jBWMNinCyPgY",
    "outputId": "79e6ecac-c9e0-470c-f1cb-27ec9e4b960c"
   },
   "outputs": [
    {
     "name": "stdout",
     "output_type": "stream",
     "text": [
      "['During my second month of nursing school, our professor gave us a pop quiz. I was a conscientious student and had breezed through the questions, until I read the last one: “What is the first name of the woman who cleans the school?”  Surely this was some kind of joke. I had seen the cleaning woman several times. She was tall, dark-haired and in her 50s, but how would I know her name? I handed in my paper, leaving the last question blank.  Before class ended, one student asked if the last question would count toward our quiz grade. “Absolutely,” said the professor.  “In your careers you will meet many people. All are significant. They deserve your attention and care, even if all you do is smile and say ‘hello’. I’ve never forgotten that lesson. I also learned her name was Dorothy.']\n"
     ]
    }
   ],
   "source": [
    "with open('raw_text-2.txt',encoding=\"utf8\") as f:\n",
    "    contents = f.readline()\n",
    "corpus = [contents]\n",
    "print(corpus)\n",
    "\n"
   ]
  },
  {
   "cell_type": "markdown",
   "metadata": {
    "id": "tdBjM9HUd87G"
   },
   "source": [
    "First we have to preprocess the raw data. I have defined a function that replaces anything out of the regular alphabet with an empty string. Then strips the whitespaces around it and takes the lower case and the tokenizes the string. Thereafter it removes all standard stop-words as given by nltk and the joins the sentence back and returns it.There after that I have used the python standard function map , map each sentence in the corpus to its clean version."
   ]
  },
  {
   "cell_type": "code",
   "execution_count": 108,
   "metadata": {
    "colab": {
     "base_uri": "https://localhost:8080/"
    },
    "id": "AQhnQZy6yPgX",
    "outputId": "236c3c55-44c2-4f07-d072-aa159f13c8d6"
   },
   "outputs": [
    {
     "name": "stderr",
     "output_type": "stream",
     "text": [
      "[nltk_data] Downloading package stopwords to /root/nltk_data...\n",
      "[nltk_data]   Package stopwords is already up-to-date!\n"
     ]
    },
    {
     "data": {
      "text/plain": [
       "array(['second month nursing school professor gave us pop quiz conscientious student breezed questions read last one first name woman cleans school surely kind joke seen cleaning woman several times tall darkhaired would know name handed paper leaving last question blank class ended one student asked last question would count toward quiz grade absolutely said professor careers meet many people significant deserve attention care even smile say hello ive never forgotten lesson also learned name dorothy'],\n",
       "      dtype='<U497')"
      ]
     },
     "execution_count": 108,
     "metadata": {},
     "output_type": "execute_result"
    }
   ],
   "source": [
    "nltk.download('stopwords')\n",
    "wpt = nltk.WordPunctTokenizer()\n",
    "stop_words = nltk.corpus.stopwords.words('english')\n",
    "\n",
    "def preprocess_document(document):\n",
    "    document = re.sub(r'[^a-zA-Z\\s]', '', document, re.I|re.A)\n",
    "    document = document.lower().strip()\n",
    "    tokens = wpt.tokenize(document)\n",
    "    filtered_tokens = [token for token in tokens if token not in stop_words]\n",
    "    new_document = ' '.join(filtered_tokens)\n",
    "    return new_document\n",
    "\n",
    "preprocess_corpus = np.vectorize(preprocess_document)\n",
    "preprocessed_corpus = preprocess_corpus(corpus)\n",
    "preprocessed_corpus"
   ]
  },
  {
   "cell_type": "markdown",
   "metadata": {
    "id": "VLCugyzqfn4M"
   },
   "source": [
    "Then words are encoded to numbers for passing them into the neural network."
   ]
  },
  {
   "cell_type": "markdown",
   "metadata": {
    "id": "vFdX1x0TJan5"
   },
   "source": []
  },
  {
   "cell_type": "code",
   "execution_count": 109,
   "metadata": {
    "colab": {
     "base_uri": "https://localhost:8080/"
    },
    "id": "2IalHzgLyPgY",
    "outputId": "9a4f73bf-5c59-483f-da6b-49020e19bd89"
   },
   "outputs": [
    {
     "name": "stdout",
     "output_type": "stream",
     "text": [
      " The dictionary:\n",
      " {'last': 1, 'name': 2, 'school': 3, 'professor': 4, 'quiz': 5, 'student': 6, 'one': 7, 'woman': 8, 'would': 9, 'question': 10, 'second': 11, 'month': 12, 'nursing': 13, 'gave': 14, 'us': 15, 'pop': 16, 'conscientious': 17, 'breezed': 18, 'questions': 19, 'read': 20, 'first': 21, 'cleans': 22, 'surely': 23, 'kind': 24, 'joke': 25, 'seen': 26, 'cleaning': 27, 'several': 28, 'times': 29, 'tall': 30, 'darkhaired': 31, 'know': 32, 'handed': 33, 'paper': 34, 'leaving': 35, 'blank': 36, 'class': 37, 'ended': 38, 'asked': 39, 'count': 40, 'toward': 41, 'grade': 42, 'absolutely': 43, 'said': 44, 'careers': 45, 'meet': 46, 'many': 47, 'people': 48, 'significant': 49, 'deserve': 50, 'attention': 51, 'care': 52, 'even': 53, 'smile': 54, 'say': 55, 'hello': 56, 'ive': 57, 'never': 58, 'forgotten': 59, 'lesson': 60, 'also': 61, 'learned': 62, 'dorothy': 63}\n",
      "[[11, 12, 13, 3, 4, 14, 15, 16, 5, 17, 6, 18, 19, 20, 1, 7, 21, 2, 8, 22, 3, 23, 24, 25, 26, 27, 8, 28, 29, 30, 31, 9, 32, 2, 33, 34, 35, 1, 10, 36, 37, 38, 7, 6, 39, 1, 10, 9, 40, 41, 5, 42, 43, 44, 4, 45, 46, 47, 48, 49, 50, 51, 52, 53, 54, 55, 56, 57, 58, 59, 60, 61, 62, 2, 63]]\n",
      " \n",
      "The vocabulary size is:  64 \n",
      "\n"
     ]
    }
   ],
   "source": [
    "tokenizer = text.Tokenizer()\n",
    "# print(tokenizer)\n",
    "tokenizer.fit_on_texts(preprocessed_corpus)\n",
    "\n",
    "word2id_dict = tokenizer.word_index\n",
    "print(\" The dictionary:\\n\", word2id_dict)\n",
    "word2id_dict['PAD'] = 0\n",
    "id2word = {v:k for k, v in word2id_dict.items()}\n",
    "word_ids = [[word2id_dict[w] for w in text.text_to_word_sequence(doc)] for doc in preprocessed_corpus]\n",
    "print(word_ids)\n",
    "vocabulary_size = len(word2id_dict)\n",
    "print(\" \\nThe vocabulary size is: \",vocabulary_size,\"\\n\")\n",
    "embedding_size = 100\n",
    "window_size = 2 "
   ]
  },
  {
   "cell_type": "markdown",
   "metadata": {
    "id": "QMLmf9OAhM6e"
   },
   "source": [
    "Then we create training samples from the encoded corpus. In the function belo for every word in every sentence of the corpus we cut out the context around it and pair it with the word."
   ]
  },
  {
   "cell_type": "code",
   "execution_count": 112,
   "metadata": {
    "id": "7HmFyeEZyPgZ"
   },
   "outputs": [],
   "source": [
    "from keras.preprocessing import sequence\n",
    "from keras.utils import np_utils\n",
    "\n",
    "def generate_context_word_pairs(corpus, window_size, vocab_size):\n",
    "    X = []\n",
    "    Y = []\n",
    "    context_length = window_size*2\n",
    "    for words in word_ids:\n",
    "        sentence_length = len(words)\n",
    "        for index, word in enumerate(words):           \n",
    "            start = index - window_size\n",
    "            end = index + window_size + 1\n",
    "            context = [words[i] for i in range(start, end)if 0 <= i < sentence_length and i != index]\n",
    "            x = pad_sequences([context], maxlen=context_length)\n",
    "            y = np_utils.to_categorical(Y, vocab_size)\n",
    "            X.append(x)\n",
    "            Y.append(word)\n",
    "            # yield (x, y)\n",
    "    return X,Y"
   ]
  },
  {
   "cell_type": "code",
   "execution_count": 111,
   "metadata": {
    "colab": {
     "base_uri": "https://localhost:8080/"
    },
    "id": "J4nPGYPRNFvL",
    "outputId": "dbe4a14a-6a5b-4584-f9cb-7cda4f4c688b"
   },
   "outputs": [
    {
     "name": "stdout",
     "output_type": "stream",
     "text": [
      "Context (X): ['second', 'month', 'school', 'professor'] -> Target (Y): second\n",
      "Context (X): ['month', 'nursing', 'professor', 'gave'] -> Target (Y): second\n",
      "Context (X): ['nursing', 'school', 'gave', 'us'] -> Target (Y): second\n",
      "Context (X): ['school', 'professor', 'us', 'pop'] -> Target (Y): second\n",
      "Context (X): ['professor', 'gave', 'pop', 'quiz'] -> Target (Y): second\n",
      "Context (X): ['gave', 'us', 'quiz', 'conscientious'] -> Target (Y): second\n",
      "Context (X): ['us', 'pop', 'conscientious', 'student'] -> Target (Y): second\n",
      "Context (X): ['pop', 'quiz', 'student', 'breezed'] -> Target (Y): second\n",
      "Context (X): ['quiz', 'conscientious', 'breezed', 'questions'] -> Target (Y): second\n",
      "Context (X): ['conscientious', 'student', 'questions', 'read'] -> Target (Y): second\n",
      "Context (X): ['student', 'breezed', 'read', 'last'] -> Target (Y): second\n"
     ]
    }
   ],
   "source": [
    "i = 0\n",
    "for x,y in generate_context_word_pairs(corpus=word_ids, window_size=window_size, vocab_size=vocabulary_size):\n",
    "    if 0 not in x[0]:\n",
    "        print('Context (X):', [id2word[w] for w in x[0]], '-> Target (Y):', id2word[np.argwhere(y[0])[0][0]])\n",
    "    \n",
    "        if i == 10:\n",
    "            break\n",
    "        i += 1"
   ]
  },
  {
   "cell_type": "markdown",
   "metadata": {
    "id": "xydgVSXGhviq"
   },
   "source": [
    "Thereafter I have defined the architecture of the network using the Pytorch. There is an embedding layer with embedding dimension 100 as given in the question which learns the dense vector representations for each word in the vocabulary. The output of this layer is passed to a ReLU activated linear layer of size 128 as given in the question. This is further passed to another linear layer which has a softmax activation.<br>\n",
    "\n",
    "A layer with a softmax activation always returns a probability distribution. The probability distribution in this case will be a distribution over the vocabulary built earlier. The output tells which which word is most likely to be placed in the centre given a set of context words."
   ]
  },
  {
   "cell_type": "code",
   "execution_count": 97,
   "metadata": {
    "id": "cGmw4kP6yPgZ"
   },
   "outputs": [],
   "source": [
    "import torch\n",
    "import torch.nn as nn\n",
    "import numpy as np\n",
    "\n",
    "class CBOW(torch.nn.Module):\n",
    "\n",
    "    def __init__(self, inp_size , vocab_size, embedding_dim=100):\n",
    "        super(CBOW, self).__init__()\n",
    "        self.embeddings = nn.Embedding(vocab_size, embedding_dim)\n",
    "        self.linear1 = nn.Linear(embedding_dim, 128)\n",
    "        self.activation_function1 = nn.ReLU()        \n",
    "        self.linear2 = nn.Linear(128, vocab_size)\n",
    "        self.activation_function2 = nn.LogSoftmax(dim = -1)\n",
    "        \n",
    "\n",
    "    def forward(self, inputs):\n",
    "        embeds = sum(self.embeddings(torch.from_numpy(inputs).long())).view(1,-1)\n",
    "        out = self.linear1(embeds)\n",
    "        out = self.activation_function1(out)\n",
    "        out = self.linear2(out)\n",
    "        out = self.activation_function2(out)\n",
    "        return out\n",
    "    \n",
    "model = CBOW(window_size*2,vocabulary_size)\n",
    "\n",
    "loss_function = nn.NLLLoss()\n",
    "optimizer = torch.optim.SGD(model.parameters(), lr=0.001)"
   ]
  },
  {
   "cell_type": "code",
   "execution_count": 117,
   "metadata": {
    "colab": {
     "base_uri": "https://localhost:8080/"
    },
    "id": "emosjpmpjmH4",
    "outputId": "0def8498-9c27-4250-e7c5-0e867fe6d66b"
   },
   "outputs": [
    {
     "name": "stdout",
     "output_type": "stream",
     "text": [
      " The model architecture is:\n",
      " CBOW(\n",
      "  (embeddings): Embedding(64, 100)\n",
      "  (linear1): Linear(in_features=100, out_features=128, bias=True)\n",
      "  (activation_function1): ReLU()\n",
      "  (linear2): Linear(in_features=128, out_features=64, bias=True)\n",
      "  (activation_function2): LogSoftmax(dim=-1)\n",
      ")\n"
     ]
    }
   ],
   "source": [
    "print(\" The model architecture is:\\n\", model)"
   ]
  },
  {
   "cell_type": "markdown",
   "metadata": {
    "id": "fRqOnruNiah6"
   },
   "source": [
    "After defining the network we train it for 50 epochs against one hot encoded vector of the vocabulary which represents one target word each."
   ]
  },
  {
   "cell_type": "code",
   "execution_count": 113,
   "metadata": {
    "colab": {
     "base_uri": "https://localhost:8080/"
    },
    "id": "61Eb6wL6yPga",
    "outputId": "11181a2a-95f9-46ca-c33a-3b4c07bfe865"
   },
   "outputs": [
    {
     "name": "stdout",
     "output_type": "stream",
     "text": [
      "Epoch Number: 1 \tLoss Obtained: tensor(0.5524, grad_fn=<AddBackward0>)\n",
      "Epoch Number: 2 \tLoss Obtained: tensor(0.5257, grad_fn=<AddBackward0>)\n",
      "Epoch Number: 3 \tLoss Obtained: tensor(0.5019, grad_fn=<AddBackward0>)\n",
      "Epoch Number: 4 \tLoss Obtained: tensor(0.4802, grad_fn=<AddBackward0>)\n",
      "Epoch Number: 5 \tLoss Obtained: tensor(0.4596, grad_fn=<AddBackward0>)\n",
      "Epoch Number: 6 \tLoss Obtained: tensor(0.4408, grad_fn=<AddBackward0>)\n",
      "Epoch Number: 7 \tLoss Obtained: tensor(0.4226, grad_fn=<AddBackward0>)\n",
      "Epoch Number: 8 \tLoss Obtained: tensor(0.4059, grad_fn=<AddBackward0>)\n",
      "Epoch Number: 9 \tLoss Obtained: tensor(0.3906, grad_fn=<AddBackward0>)\n",
      "Epoch Number: 10 \tLoss Obtained: tensor(0.3759, grad_fn=<AddBackward0>)\n",
      "Epoch Number: 11 \tLoss Obtained: tensor(0.3623, grad_fn=<AddBackward0>)\n",
      "Epoch Number: 12 \tLoss Obtained: tensor(0.3497, grad_fn=<AddBackward0>)\n",
      "Epoch Number: 13 \tLoss Obtained: tensor(0.3372, grad_fn=<AddBackward0>)\n",
      "Epoch Number: 14 \tLoss Obtained: tensor(0.3258, grad_fn=<AddBackward0>)\n",
      "Epoch Number: 15 \tLoss Obtained: tensor(0.3153, grad_fn=<AddBackward0>)\n",
      "Epoch Number: 16 \tLoss Obtained: tensor(0.3048, grad_fn=<AddBackward0>)\n",
      "Epoch Number: 17 \tLoss Obtained: tensor(0.2956, grad_fn=<AddBackward0>)\n",
      "Epoch Number: 18 \tLoss Obtained: tensor(0.2864, grad_fn=<AddBackward0>)\n",
      "Epoch Number: 19 \tLoss Obtained: tensor(0.2776, grad_fn=<AddBackward0>)\n",
      "Epoch Number: 20 \tLoss Obtained: tensor(0.2697, grad_fn=<AddBackward0>)\n",
      "Epoch Number: 21 \tLoss Obtained: tensor(0.2618, grad_fn=<AddBackward0>)\n",
      "Epoch Number: 22 \tLoss Obtained: tensor(0.2544, grad_fn=<AddBackward0>)\n",
      "Epoch Number: 23 \tLoss Obtained: tensor(0.2475, grad_fn=<AddBackward0>)\n",
      "Epoch Number: 24 \tLoss Obtained: tensor(0.2408, grad_fn=<AddBackward0>)\n",
      "Epoch Number: 25 \tLoss Obtained: tensor(0.2342, grad_fn=<AddBackward0>)\n",
      "Epoch Number: 26 \tLoss Obtained: tensor(0.2282, grad_fn=<AddBackward0>)\n",
      "Epoch Number: 27 \tLoss Obtained: tensor(0.2226, grad_fn=<AddBackward0>)\n",
      "Epoch Number: 28 \tLoss Obtained: tensor(0.2168, grad_fn=<AddBackward0>)\n",
      "Epoch Number: 29 \tLoss Obtained: tensor(0.2115, grad_fn=<AddBackward0>)\n",
      "Epoch Number: 30 \tLoss Obtained: tensor(0.2064, grad_fn=<AddBackward0>)\n",
      "Epoch Number: 31 \tLoss Obtained: tensor(0.2016, grad_fn=<AddBackward0>)\n",
      "Epoch Number: 32 \tLoss Obtained: tensor(0.1970, grad_fn=<AddBackward0>)\n",
      "Epoch Number: 33 \tLoss Obtained: tensor(0.1925, grad_fn=<AddBackward0>)\n",
      "Epoch Number: 34 \tLoss Obtained: tensor(0.1882, grad_fn=<AddBackward0>)\n",
      "Epoch Number: 35 \tLoss Obtained: tensor(0.1840, grad_fn=<AddBackward0>)\n",
      "Epoch Number: 36 \tLoss Obtained: tensor(0.1801, grad_fn=<AddBackward0>)\n",
      "Epoch Number: 37 \tLoss Obtained: tensor(0.1762, grad_fn=<AddBackward0>)\n",
      "Epoch Number: 38 \tLoss Obtained: tensor(0.1726, grad_fn=<AddBackward0>)\n",
      "Epoch Number: 39 \tLoss Obtained: tensor(0.1691, grad_fn=<AddBackward0>)\n",
      "Epoch Number: 40 \tLoss Obtained: tensor(0.1656, grad_fn=<AddBackward0>)\n",
      "Epoch Number: 41 \tLoss Obtained: tensor(0.1625, grad_fn=<AddBackward0>)\n",
      "Epoch Number: 42 \tLoss Obtained: tensor(0.1592, grad_fn=<AddBackward0>)\n",
      "Epoch Number: 43 \tLoss Obtained: tensor(0.1562, grad_fn=<AddBackward0>)\n",
      "Epoch Number: 44 \tLoss Obtained: tensor(0.1532, grad_fn=<AddBackward0>)\n",
      "Epoch Number: 45 \tLoss Obtained: tensor(0.1504, grad_fn=<AddBackward0>)\n",
      "Epoch Number: 46 \tLoss Obtained: tensor(0.1476, grad_fn=<AddBackward0>)\n",
      "Epoch Number: 47 \tLoss Obtained: tensor(0.1448, grad_fn=<AddBackward0>)\n",
      "Epoch Number: 48 \tLoss Obtained: tensor(0.1423, grad_fn=<AddBackward0>)\n",
      "Epoch Number: 49 \tLoss Obtained: tensor(0.1398, grad_fn=<AddBackward0>)\n"
     ]
    }
   ],
   "source": [
    "for epoch in range(1, 50):\n",
    "    loss = 0.\n",
    "    i = 0\n",
    "    X,Y = generate_context_word_pairs(corpus=word_ids, window_size=window_size, vocab_size=vocabulary_size)\n",
    "    for x, y in zip(X,Y):\n",
    "        i += 1\n",
    "        optimizer.zero_grad()\n",
    "        log_probs = model(x[0])\n",
    "        loss = loss_function(log_probs,torch.Tensor([y]).long())\n",
    "        loss.backward()\n",
    "        optimizer.step()\n",
    "        loss += loss.data\n",
    "    print('Epoch Number:', epoch, '\\tLoss Obtained:', loss)"
   ]
  },
  {
   "cell_type": "markdown",
   "metadata": {
    "id": "izMdaIsTjCJp"
   },
   "source": [
    "Viewing the embeddings"
   ]
  },
  {
   "cell_type": "code",
   "execution_count": 114,
   "metadata": {
    "colab": {
     "base_uri": "https://localhost:8080/",
     "height": 488
    },
    "id": "BOo35LauyPgb",
    "outputId": "a643aa49-bdaa-4646-bc3f-80826ebc7503"
   },
   "outputs": [
    {
     "data": {
      "text/html": [
       "\n",
       "  <div id=\"df-394d0108-0b77-45da-8583-dff7873b4a23\">\n",
       "    <div class=\"colab-df-container\">\n",
       "      <div>\n",
       "<style scoped>\n",
       "    .dataframe tbody tr th:only-of-type {\n",
       "        vertical-align: middle;\n",
       "    }\n",
       "\n",
       "    .dataframe tbody tr th {\n",
       "        vertical-align: top;\n",
       "    }\n",
       "\n",
       "    .dataframe thead th {\n",
       "        text-align: right;\n",
       "    }\n",
       "</style>\n",
       "<table border=\"1\" class=\"dataframe\">\n",
       "  <thead>\n",
       "    <tr style=\"text-align: right;\">\n",
       "      <th></th>\n",
       "      <th>0</th>\n",
       "      <th>1</th>\n",
       "      <th>2</th>\n",
       "      <th>3</th>\n",
       "      <th>4</th>\n",
       "      <th>5</th>\n",
       "      <th>6</th>\n",
       "      <th>7</th>\n",
       "      <th>8</th>\n",
       "      <th>9</th>\n",
       "      <th>...</th>\n",
       "      <th>90</th>\n",
       "      <th>91</th>\n",
       "      <th>92</th>\n",
       "      <th>93</th>\n",
       "      <th>94</th>\n",
       "      <th>95</th>\n",
       "      <th>96</th>\n",
       "      <th>97</th>\n",
       "      <th>98</th>\n",
       "      <th>99</th>\n",
       "    </tr>\n",
       "  </thead>\n",
       "  <tbody>\n",
       "    <tr>\n",
       "      <th>last</th>\n",
       "      <td>0.499750</td>\n",
       "      <td>-0.305769</td>\n",
       "      <td>-0.927929</td>\n",
       "      <td>1.023900</td>\n",
       "      <td>1.563820</td>\n",
       "      <td>0.569895</td>\n",
       "      <td>-1.373397</td>\n",
       "      <td>0.288137</td>\n",
       "      <td>0.215902</td>\n",
       "      <td>0.196773</td>\n",
       "      <td>...</td>\n",
       "      <td>0.998101</td>\n",
       "      <td>1.043545</td>\n",
       "      <td>0.909461</td>\n",
       "      <td>-1.639167</td>\n",
       "      <td>-0.078348</td>\n",
       "      <td>-0.450077</td>\n",
       "      <td>0.684774</td>\n",
       "      <td>-1.389842</td>\n",
       "      <td>-0.542943</td>\n",
       "      <td>-0.263892</td>\n",
       "    </tr>\n",
       "    <tr>\n",
       "      <th>name</th>\n",
       "      <td>0.045232</td>\n",
       "      <td>1.505606</td>\n",
       "      <td>-0.124120</td>\n",
       "      <td>-0.779188</td>\n",
       "      <td>0.814693</td>\n",
       "      <td>0.129049</td>\n",
       "      <td>-0.643182</td>\n",
       "      <td>1.886962</td>\n",
       "      <td>-0.052576</td>\n",
       "      <td>-0.012889</td>\n",
       "      <td>...</td>\n",
       "      <td>1.283108</td>\n",
       "      <td>0.534946</td>\n",
       "      <td>-0.857594</td>\n",
       "      <td>-0.449904</td>\n",
       "      <td>1.324825</td>\n",
       "      <td>-1.001372</td>\n",
       "      <td>-0.279473</td>\n",
       "      <td>1.049597</td>\n",
       "      <td>0.880716</td>\n",
       "      <td>-1.442898</td>\n",
       "    </tr>\n",
       "    <tr>\n",
       "      <th>school</th>\n",
       "      <td>-1.838386</td>\n",
       "      <td>-0.817350</td>\n",
       "      <td>0.035940</td>\n",
       "      <td>1.720654</td>\n",
       "      <td>1.128536</td>\n",
       "      <td>-1.133799</td>\n",
       "      <td>-1.178414</td>\n",
       "      <td>1.614829</td>\n",
       "      <td>1.428062</td>\n",
       "      <td>-0.547181</td>\n",
       "      <td>...</td>\n",
       "      <td>0.513767</td>\n",
       "      <td>1.138487</td>\n",
       "      <td>0.538827</td>\n",
       "      <td>-0.056236</td>\n",
       "      <td>1.581903</td>\n",
       "      <td>-1.311018</td>\n",
       "      <td>0.551752</td>\n",
       "      <td>0.492737</td>\n",
       "      <td>1.105744</td>\n",
       "      <td>-0.906386</td>\n",
       "    </tr>\n",
       "    <tr>\n",
       "      <th>professor</th>\n",
       "      <td>-1.575812</td>\n",
       "      <td>-0.851389</td>\n",
       "      <td>0.490099</td>\n",
       "      <td>-0.621855</td>\n",
       "      <td>-1.724083</td>\n",
       "      <td>-0.701167</td>\n",
       "      <td>-0.336879</td>\n",
       "      <td>0.186446</td>\n",
       "      <td>-1.678818</td>\n",
       "      <td>0.253006</td>\n",
       "      <td>...</td>\n",
       "      <td>-0.444509</td>\n",
       "      <td>-0.841905</td>\n",
       "      <td>0.064818</td>\n",
       "      <td>1.236449</td>\n",
       "      <td>1.360319</td>\n",
       "      <td>-1.128636</td>\n",
       "      <td>0.011276</td>\n",
       "      <td>0.864242</td>\n",
       "      <td>-0.222719</td>\n",
       "      <td>-0.222021</td>\n",
       "    </tr>\n",
       "    <tr>\n",
       "      <th>quiz</th>\n",
       "      <td>-0.602046</td>\n",
       "      <td>2.597855</td>\n",
       "      <td>-0.255670</td>\n",
       "      <td>-1.850175</td>\n",
       "      <td>0.177136</td>\n",
       "      <td>-1.573290</td>\n",
       "      <td>-0.682176</td>\n",
       "      <td>-1.403996</td>\n",
       "      <td>-0.381959</td>\n",
       "      <td>-0.120449</td>\n",
       "      <td>...</td>\n",
       "      <td>-0.451994</td>\n",
       "      <td>-0.156942</td>\n",
       "      <td>0.263345</td>\n",
       "      <td>-0.267801</td>\n",
       "      <td>0.527081</td>\n",
       "      <td>-1.141582</td>\n",
       "      <td>-1.371199</td>\n",
       "      <td>0.510803</td>\n",
       "      <td>1.334760</td>\n",
       "      <td>-0.068579</td>\n",
       "    </tr>\n",
       "    <tr>\n",
       "      <th>...</th>\n",
       "      <td>...</td>\n",
       "      <td>...</td>\n",
       "      <td>...</td>\n",
       "      <td>...</td>\n",
       "      <td>...</td>\n",
       "      <td>...</td>\n",
       "      <td>...</td>\n",
       "      <td>...</td>\n",
       "      <td>...</td>\n",
       "      <td>...</td>\n",
       "      <td>...</td>\n",
       "      <td>...</td>\n",
       "      <td>...</td>\n",
       "      <td>...</td>\n",
       "      <td>...</td>\n",
       "      <td>...</td>\n",
       "      <td>...</td>\n",
       "      <td>...</td>\n",
       "      <td>...</td>\n",
       "      <td>...</td>\n",
       "      <td>...</td>\n",
       "    </tr>\n",
       "    <tr>\n",
       "      <th>lesson</th>\n",
       "      <td>-1.583776</td>\n",
       "      <td>-0.516618</td>\n",
       "      <td>2.734972</td>\n",
       "      <td>-1.245614</td>\n",
       "      <td>-0.515813</td>\n",
       "      <td>0.503297</td>\n",
       "      <td>-0.187408</td>\n",
       "      <td>-0.513411</td>\n",
       "      <td>-0.067672</td>\n",
       "      <td>-0.493100</td>\n",
       "      <td>...</td>\n",
       "      <td>-0.718918</td>\n",
       "      <td>0.096974</td>\n",
       "      <td>-1.034469</td>\n",
       "      <td>1.430752</td>\n",
       "      <td>0.930685</td>\n",
       "      <td>-0.657579</td>\n",
       "      <td>-0.378548</td>\n",
       "      <td>1.052690</td>\n",
       "      <td>-0.287362</td>\n",
       "      <td>-0.257790</td>\n",
       "    </tr>\n",
       "    <tr>\n",
       "      <th>also</th>\n",
       "      <td>-1.053110</td>\n",
       "      <td>0.630943</td>\n",
       "      <td>0.716835</td>\n",
       "      <td>0.975766</td>\n",
       "      <td>0.152922</td>\n",
       "      <td>-0.195267</td>\n",
       "      <td>1.470545</td>\n",
       "      <td>1.236399</td>\n",
       "      <td>0.849045</td>\n",
       "      <td>-0.471138</td>\n",
       "      <td>...</td>\n",
       "      <td>-0.715026</td>\n",
       "      <td>-2.273364</td>\n",
       "      <td>1.190260</td>\n",
       "      <td>-1.808686</td>\n",
       "      <td>-0.608847</td>\n",
       "      <td>-0.622449</td>\n",
       "      <td>-1.578839</td>\n",
       "      <td>0.792399</td>\n",
       "      <td>0.908460</td>\n",
       "      <td>1.029104</td>\n",
       "    </tr>\n",
       "    <tr>\n",
       "      <th>learned</th>\n",
       "      <td>-0.508999</td>\n",
       "      <td>-0.721901</td>\n",
       "      <td>1.548838</td>\n",
       "      <td>1.608680</td>\n",
       "      <td>-0.231141</td>\n",
       "      <td>0.512928</td>\n",
       "      <td>0.511031</td>\n",
       "      <td>-1.262283</td>\n",
       "      <td>0.271078</td>\n",
       "      <td>-0.824497</td>\n",
       "      <td>...</td>\n",
       "      <td>-0.808691</td>\n",
       "      <td>1.383067</td>\n",
       "      <td>-0.564884</td>\n",
       "      <td>0.776183</td>\n",
       "      <td>1.332688</td>\n",
       "      <td>-0.534636</td>\n",
       "      <td>-0.907525</td>\n",
       "      <td>-0.011413</td>\n",
       "      <td>-0.814135</td>\n",
       "      <td>1.892028</td>\n",
       "    </tr>\n",
       "    <tr>\n",
       "      <th>dorothy</th>\n",
       "      <td>0.115834</td>\n",
       "      <td>-0.595812</td>\n",
       "      <td>-0.008467</td>\n",
       "      <td>1.132215</td>\n",
       "      <td>0.057305</td>\n",
       "      <td>0.965457</td>\n",
       "      <td>-0.860552</td>\n",
       "      <td>-0.209786</td>\n",
       "      <td>0.348056</td>\n",
       "      <td>0.991099</td>\n",
       "      <td>...</td>\n",
       "      <td>-1.143720</td>\n",
       "      <td>0.844697</td>\n",
       "      <td>1.021772</td>\n",
       "      <td>0.729919</td>\n",
       "      <td>-1.307861</td>\n",
       "      <td>1.874926</td>\n",
       "      <td>-0.695448</td>\n",
       "      <td>-0.649094</td>\n",
       "      <td>0.108790</td>\n",
       "      <td>-0.493862</td>\n",
       "    </tr>\n",
       "    <tr>\n",
       "      <th>PAD</th>\n",
       "      <td>-0.060846</td>\n",
       "      <td>-0.987159</td>\n",
       "      <td>-0.839877</td>\n",
       "      <td>0.967458</td>\n",
       "      <td>0.251351</td>\n",
       "      <td>1.113182</td>\n",
       "      <td>-0.141543</td>\n",
       "      <td>-1.118147</td>\n",
       "      <td>1.344579</td>\n",
       "      <td>1.525168</td>\n",
       "      <td>...</td>\n",
       "      <td>0.143499</td>\n",
       "      <td>0.707680</td>\n",
       "      <td>0.735664</td>\n",
       "      <td>-0.470139</td>\n",
       "      <td>-2.186304</td>\n",
       "      <td>0.341503</td>\n",
       "      <td>-0.245462</td>\n",
       "      <td>0.195892</td>\n",
       "      <td>1.315369</td>\n",
       "      <td>1.162554</td>\n",
       "    </tr>\n",
       "  </tbody>\n",
       "</table>\n",
       "<p>64 rows × 100 columns</p>\n",
       "</div>\n",
       "      <button class=\"colab-df-convert\" onclick=\"convertToInteractive('df-394d0108-0b77-45da-8583-dff7873b4a23')\"\n",
       "              title=\"Convert this dataframe to an interactive table.\"\n",
       "              style=\"display:none;\">\n",
       "        \n",
       "  <svg xmlns=\"http://www.w3.org/2000/svg\" height=\"24px\"viewBox=\"0 0 24 24\"\n",
       "       width=\"24px\">\n",
       "    <path d=\"M0 0h24v24H0V0z\" fill=\"none\"/>\n",
       "    <path d=\"M18.56 5.44l.94 2.06.94-2.06 2.06-.94-2.06-.94-.94-2.06-.94 2.06-2.06.94zm-11 1L8.5 8.5l.94-2.06 2.06-.94-2.06-.94L8.5 2.5l-.94 2.06-2.06.94zm10 10l.94 2.06.94-2.06 2.06-.94-2.06-.94-.94-2.06-.94 2.06-2.06.94z\"/><path d=\"M17.41 7.96l-1.37-1.37c-.4-.4-.92-.59-1.43-.59-.52 0-1.04.2-1.43.59L10.3 9.45l-7.72 7.72c-.78.78-.78 2.05 0 2.83L4 21.41c.39.39.9.59 1.41.59.51 0 1.02-.2 1.41-.59l7.78-7.78 2.81-2.81c.8-.78.8-2.07 0-2.86zM5.41 20L4 18.59l7.72-7.72 1.47 1.35L5.41 20z\"/>\n",
       "  </svg>\n",
       "      </button>\n",
       "      \n",
       "  <style>\n",
       "    .colab-df-container {\n",
       "      display:flex;\n",
       "      flex-wrap:wrap;\n",
       "      gap: 12px;\n",
       "    }\n",
       "\n",
       "    .colab-df-convert {\n",
       "      background-color: #E8F0FE;\n",
       "      border: none;\n",
       "      border-radius: 50%;\n",
       "      cursor: pointer;\n",
       "      display: none;\n",
       "      fill: #1967D2;\n",
       "      height: 32px;\n",
       "      padding: 0 0 0 0;\n",
       "      width: 32px;\n",
       "    }\n",
       "\n",
       "    .colab-df-convert:hover {\n",
       "      background-color: #E2EBFA;\n",
       "      box-shadow: 0px 1px 2px rgba(60, 64, 67, 0.3), 0px 1px 3px 1px rgba(60, 64, 67, 0.15);\n",
       "      fill: #174EA6;\n",
       "    }\n",
       "\n",
       "    [theme=dark] .colab-df-convert {\n",
       "      background-color: #3B4455;\n",
       "      fill: #D2E3FC;\n",
       "    }\n",
       "\n",
       "    [theme=dark] .colab-df-convert:hover {\n",
       "      background-color: #434B5C;\n",
       "      box-shadow: 0px 1px 3px 1px rgba(0, 0, 0, 0.15);\n",
       "      filter: drop-shadow(0px 1px 2px rgba(0, 0, 0, 0.3));\n",
       "      fill: #FFFFFF;\n",
       "    }\n",
       "  </style>\n",
       "\n",
       "      <script>\n",
       "        const buttonEl =\n",
       "          document.querySelector('#df-394d0108-0b77-45da-8583-dff7873b4a23 button.colab-df-convert');\n",
       "        buttonEl.style.display =\n",
       "          google.colab.kernel.accessAllowed ? 'block' : 'none';\n",
       "\n",
       "        async function convertToInteractive(key) {\n",
       "          const element = document.querySelector('#df-394d0108-0b77-45da-8583-dff7873b4a23');\n",
       "          const dataTable =\n",
       "            await google.colab.kernel.invokeFunction('convertToInteractive',\n",
       "                                                     [key], {});\n",
       "          if (!dataTable) return;\n",
       "\n",
       "          const docLinkHtml = 'Like what you see? Visit the ' +\n",
       "            '<a target=\"_blank\" href=https://colab.research.google.com/notebooks/data_table.ipynb>data table notebook</a>'\n",
       "            + ' to learn more about interactive tables.';\n",
       "          element.innerHTML = '';\n",
       "          dataTable['output_type'] = 'display_data';\n",
       "          await google.colab.output.renderOutput(dataTable, element);\n",
       "          const docLink = document.createElement('div');\n",
       "          docLink.innerHTML = docLinkHtml;\n",
       "          element.appendChild(docLink);\n",
       "        }\n",
       "      </script>\n",
       "    </div>\n",
       "  </div>\n",
       "  "
      ],
      "text/plain": [
       "                 0         1         2         3         4         5   \\\n",
       "last       0.499750 -0.305769 -0.927929  1.023900  1.563820  0.569895   \n",
       "name       0.045232  1.505606 -0.124120 -0.779188  0.814693  0.129049   \n",
       "school    -1.838386 -0.817350  0.035940  1.720654  1.128536 -1.133799   \n",
       "professor -1.575812 -0.851389  0.490099 -0.621855 -1.724083 -0.701167   \n",
       "quiz      -0.602046  2.597855 -0.255670 -1.850175  0.177136 -1.573290   \n",
       "...             ...       ...       ...       ...       ...       ...   \n",
       "lesson    -1.583776 -0.516618  2.734972 -1.245614 -0.515813  0.503297   \n",
       "also      -1.053110  0.630943  0.716835  0.975766  0.152922 -0.195267   \n",
       "learned   -0.508999 -0.721901  1.548838  1.608680 -0.231141  0.512928   \n",
       "dorothy    0.115834 -0.595812 -0.008467  1.132215  0.057305  0.965457   \n",
       "PAD       -0.060846 -0.987159 -0.839877  0.967458  0.251351  1.113182   \n",
       "\n",
       "                 6         7         8         9   ...        90        91  \\\n",
       "last      -1.373397  0.288137  0.215902  0.196773  ...  0.998101  1.043545   \n",
       "name      -0.643182  1.886962 -0.052576 -0.012889  ...  1.283108  0.534946   \n",
       "school    -1.178414  1.614829  1.428062 -0.547181  ...  0.513767  1.138487   \n",
       "professor -0.336879  0.186446 -1.678818  0.253006  ... -0.444509 -0.841905   \n",
       "quiz      -0.682176 -1.403996 -0.381959 -0.120449  ... -0.451994 -0.156942   \n",
       "...             ...       ...       ...       ...  ...       ...       ...   \n",
       "lesson    -0.187408 -0.513411 -0.067672 -0.493100  ... -0.718918  0.096974   \n",
       "also       1.470545  1.236399  0.849045 -0.471138  ... -0.715026 -2.273364   \n",
       "learned    0.511031 -1.262283  0.271078 -0.824497  ... -0.808691  1.383067   \n",
       "dorothy   -0.860552 -0.209786  0.348056  0.991099  ... -1.143720  0.844697   \n",
       "PAD       -0.141543 -1.118147  1.344579  1.525168  ...  0.143499  0.707680   \n",
       "\n",
       "                 92        93        94        95        96        97  \\\n",
       "last       0.909461 -1.639167 -0.078348 -0.450077  0.684774 -1.389842   \n",
       "name      -0.857594 -0.449904  1.324825 -1.001372 -0.279473  1.049597   \n",
       "school     0.538827 -0.056236  1.581903 -1.311018  0.551752  0.492737   \n",
       "professor  0.064818  1.236449  1.360319 -1.128636  0.011276  0.864242   \n",
       "quiz       0.263345 -0.267801  0.527081 -1.141582 -1.371199  0.510803   \n",
       "...             ...       ...       ...       ...       ...       ...   \n",
       "lesson    -1.034469  1.430752  0.930685 -0.657579 -0.378548  1.052690   \n",
       "also       1.190260 -1.808686 -0.608847 -0.622449 -1.578839  0.792399   \n",
       "learned   -0.564884  0.776183  1.332688 -0.534636 -0.907525 -0.011413   \n",
       "dorothy    1.021772  0.729919 -1.307861  1.874926 -0.695448 -0.649094   \n",
       "PAD        0.735664 -0.470139 -2.186304  0.341503 -0.245462  0.195892   \n",
       "\n",
       "                 98        99  \n",
       "last      -0.542943 -0.263892  \n",
       "name       0.880716 -1.442898  \n",
       "school     1.105744 -0.906386  \n",
       "professor -0.222719 -0.222021  \n",
       "quiz       1.334760 -0.068579  \n",
       "...             ...       ...  \n",
       "lesson    -0.287362 -0.257790  \n",
       "also       0.908460  1.029104  \n",
       "learned   -0.814135  1.892028  \n",
       "dorothy    0.108790 -0.493862  \n",
       "PAD        1.315369  1.162554  \n",
       "\n",
       "[64 rows x 100 columns]"
      ]
     },
     "execution_count": 114,
     "metadata": {},
     "output_type": "execute_result"
    }
   ],
   "source": [
    "embeddings = model.embeddings(torch.Tensor([list(range(0,vocabulary_size))]).long())\n",
    "pd.DataFrame(embeddings.view(-1,100).tolist(), index=list(id2word.values())[0:])"
   ]
  },
  {
   "cell_type": "code",
   "execution_count": 115,
   "metadata": {
    "colab": {
     "base_uri": "https://localhost:8080/"
    },
    "id": "Ob9JpJwEzB5w",
    "outputId": "37401516-8e63-45d0-870f-6c338e7adae9"
   },
   "outputs": [
    {
     "data": {
      "text/plain": [
       "{'tall': ['absolutely', 'care', 'say', 'woman', 'surely'],\n",
       " 'pop': ['ended', 'blank', 'darkhaired', 'handed', 'nursing'],\n",
       " 'quiz': ['say', 'read', 'hello', 'significant', 'darkhaired'],\n",
       " 'never': ['class', 'questions', 'first', 'hello', 'read'],\n",
       " 'woman': ['darkhaired', 'dorothy', 'absolutely', 'know', 'cleans']}"
      ]
     },
     "execution_count": 115,
     "metadata": {},
     "output_type": "execute_result"
    }
   ],
   "source": [
    "from sklearn.metrics.pairwise import euclidean_distances\n",
    "\n",
    "weights = embeddings.view(-1,100)\n",
    "distance_matrix = euclidean_distances(weights.detach().numpy())\n",
    "search_list = ['tall','pop','quiz','never','woman']\n",
    "similar_words = {search_term: [id2word[idx] for idx in distance_matrix[word2id_dict[search_term]-1].argsort()[1:6]+1] for search_term in search_list }\n",
    "\n",
    "similar_words"
   ]
  },
  {
   "cell_type": "markdown",
   "metadata": {
    "id": "bwdHgh4XjUOo"
   },
   "source": [
    " visualize the embeddings to understand similarity between the learned word embeddings."
   ]
  },
  {
   "cell_type": "code",
   "execution_count": 116,
   "metadata": {
    "colab": {
     "base_uri": "https://localhost:8080/",
     "height": 570
    },
    "id": "6_xtycw_7grC",
    "outputId": "dec7d2b3-bce0-433d-c42f-00daef30111f"
   },
   "outputs": [
    {
     "name": "stdout",
     "output_type": "stream",
     "text": [
      "Total words: 30 \tWord Embedding shapes: 30\n"
     ]
    },
    {
     "name": "stderr",
     "output_type": "stream",
     "text": [
      "/usr/local/lib/python3.8/dist-packages/sklearn/manifold/_t_sne.py:780: FutureWarning: The default initialization in TSNE will change from 'random' to 'pca' in 1.2.\n",
      "  warnings.warn(\n",
      "/usr/local/lib/python3.8/dist-packages/sklearn/manifold/_t_sne.py:790: FutureWarning: The default learning rate in TSNE will change from 200.0 to 'auto' in 1.2.\n",
      "  warnings.warn(\n"
     ]
    },
    {
     "data": {
      "image/png": "[encoded data removed]",
      "text/plain": [
       "<Figure size 1008x576 with 1 Axes>"
      ]
     },
     "metadata": {
      "needs_background": "light"
     },
     "output_type": "display_data"
    }
   ],
   "source": [
    "from sklearn.manifold import TSNE\n",
    "import numpy as np\n",
    "import matplotlib.pyplot as plt\n",
    "\n",
    "\n",
    "words = sum([[k] + v for k, v in similar_words.items()], [])\n",
    "words_ids = [word2id_dict[w] for w in words]\n",
    "word_vectors = ([weights[idx].detach().numpy() for idx in words_ids])\n",
    "print('Total words:', len(words), '\\tWord Embedding shapes:', len(word_vectors))\n",
    "\n",
    "tsne = TSNE(n_components=2, random_state=0, n_iter=10000, perplexity=3)\n",
    "np.set_printoptions(suppress=True)\n",
    "T = tsne.fit_transform(word_vectors)\n",
    "labels = words\n",
    "\n",
    "plt.figure(figsize=(14, 8))\n",
    "plt.scatter(T[:, 0], T[:, 1], c='steelblue', edgecolors='k')\n",
    "for label, x, y in zip(labels, T[:, 0], T[:, 1]):\n",
    "    plt.annotate(label, xy=(x+1, y+1), xytext=(0, 0), textcoords='offset points')"
   ]
  },
  {
   "cell_type": "code",
   "execution_count": null,
   "metadata": {
    "id": "-ZXNzkmWydUW"
   },
   "outputs": [],
   "source": []
  }
 ],
 "metadata": {
  "colab": {
   "provenance": []
  },
  "kernelspec": {
   "display_name": "Python 3 (ipykernel)",
   "language": "python",
   "name": "python3"
  },
  "language_info": {
   "codemirror_mode": {
    "name": "ipython",
    "version": 3
   },
   "file_extension": ".py",
   "mimetype": "text/x-python",
   "name": "python",
   "nbconvert_exporter": "python",
   "pygments_lexer": "ipython3",
   "version": "3.9.13"
  },
  "vscode": {
   "interpreter": {
    "hash": "b0fa6594d8f4cbf19f97940f81e996739fb7646882a419484c72d19e05852a7e"
   }
  }
 },
 "nbformat": 4,
 "nbformat_minor": 1
}
