{
 "cells": [
  {
   "attachments": {},
   "cell_type": "markdown",
   "metadata": {},
   "source": [
    "# 2 Accelerating K-Nearest Neighbour Classifier"
   ]
  },
  {
   "cell_type": "code",
   "execution_count": 1,
   "metadata": {},
   "outputs": [],
   "source": [
    "# Importing ll the necessary libraries\n",
    "import time                                #Importing Time\n",
    "import os                                  #Importing OS\n",
    "import pandas as pd                        #Importing Pandas\n",
    "import numpy as np                         #Importing Numpy\n",
    "import matplotlib.pyplot as plt            #Importing Matplotlib\n",
    "import random                              #Importing Random\n",
    "from scipy.spatial.distance import pdist   #Importing Scipy pdist"
   ]
  },
  {
   "attachments": {},
   "cell_type": "markdown",
   "metadata": {},
   "source": [
    "### Load the dataset classification.npy, the dataset consists of over 100 predictors."
   ]
  },
  {
   "cell_type": "code",
   "execution_count": 2,
   "metadata": {},
   "outputs": [],
   "source": [
    "with open('classification.npy', 'rb') as f:\n",
    "    X = np.load(f)\n",
    "    y = np.load(f)\n"
   ]
  },
  {
   "attachments": {},
   "cell_type": "markdown",
   "metadata": {},
   "source": [
    "Normalising the dataset"
   ]
  },
  {
   "cell_type": "code",
   "execution_count": 3,
   "metadata": {},
   "outputs": [],
   "source": [
    "normalized_dataset = (X - np.average(X)) / (np.std(X))\n",
    "X = normalized_dataset"
   ]
  },
  {
   "attachments": {},
   "cell_type": "markdown",
   "metadata": {},
   "source": [
    "Splitting the dataset into training and testting"
   ]
  },
  {
   "cell_type": "code",
   "execution_count": 4,
   "metadata": {},
   "outputs": [
    {
     "name": "stdout",
     "output_type": "stream",
     "text": [
      " X_Train Shape :  (800, 100) \n",
      "X_Test Shape :  (200, 100) \n",
      "Y_Train Shape :  (800,) \n",
      "Y_test Shape :  (200,)\n"
     ]
    }
   ],
   "source": [
    "n, m = X.shape\n",
    "split = int(0.8 * n)\n",
    "p = np.random.permutation(n)\n",
    "X_train = X[p[:split]]\n",
    "y_train = y[p[:split]]\n",
    "X_test = X[p[split:]]\n",
    "y_test = y[p[split:]]\n",
    "print(\" X_Train Shape : \",X_train.shape,\"\\nX_Test Shape : \",X_test.shape,\"\\nY_Train Shape : \",y_train.shape,\"\\nY_test Shape : \",y_test.shape)"
   ]
  },
  {
   "attachments": {},
   "cell_type": "markdown",
   "metadata": {},
   "source": [
    "### Defining all the funtions to calculate distances between two points"
   ]
  },
  {
   "attachments": {},
   "cell_type": "markdown",
   "metadata": {},
   "source": [
    "#### EUCLIDEAN DISTANCE"
   ]
  },
  {
   "cell_type": "code",
   "execution_count": 5,
   "metadata": {},
   "outputs": [],
   "source": [
    "def Euclidean_distance(point1 ,point2):\n",
    "    sum_square = np.sum(np.square(point1 - point2))\n",
    "    return np.sqrt(sum_square)"
   ]
  },
  {
   "attachments": {},
   "cell_type": "markdown",
   "metadata": {},
   "source": [
    "#### COSINE SIMILARITY"
   ]
  },
  {
   "cell_type": "code",
   "execution_count": 6,
   "metadata": {},
   "outputs": [],
   "source": [
    "def cosine_similarity(point1, point2):\n",
    "    return (np.dot(point1, point2) / (np.sqrt(np.dot(point1, point1)) * np.sqrt(np.dot(point2, point2))))"
   ]
  },
  {
   "attachments": {},
   "cell_type": "markdown",
   "metadata": {},
   "source": [
    "#### CITY_BLOCK DISTANCE"
   ]
  },
  {
   "cell_type": "code",
   "execution_count": 7,
   "metadata": {},
   "outputs": [],
   "source": [
    "def cityblock_distance(point1, point2):\n",
    "  \n",
    "    result = np.sum([abs(point_1 - point_2) for (point_1, point_2) in zip(point1, point2)])\n",
    "    return result"
   ]
  },
  {
   "attachments": {},
   "cell_type": "markdown",
   "metadata": {},
   "source": [
    "#### Accuracy For KNN Classification"
   ]
  },
  {
   "cell_type": "code",
   "execution_count": 8,
   "metadata": {},
   "outputs": [],
   "source": [
    "def accuracy_knn_classification(predicted_classes ,actual_classes):\n",
    "    #Checking if the size of both predicted classes and actual classes is same\n",
    "    if len(predicted_classes) != len(actual_classes):\n",
    "        raise Exception('The size of both Predicted Classes array and Actual Classes array should be same')\n",
    "    #Initializing variable to 0\n",
    "    correct = 0\n",
    "    #Iterating through all values to match these values\n",
    "    for i in range(len(predicted_classes)):\n",
    "        #If values are equal then incrementing the correct variable\n",
    "        if predicted_classes[i] == actual_classes[i]:\n",
    "            correct += 1\n",
    "    #Returning the accuracy as the precentage\n",
    "    accuracy = (correct / len(predicted_classes))\n",
    "    return (accuracy * 100)"
   ]
  },
  {
   "attachments": {},
   "cell_type": "markdown",
   "metadata": {},
   "source": [
    "        1. Implement the following versions of the Nearest Neighbour Classifier"
   ]
  },
  {
   "attachments": {},
   "cell_type": "markdown",
   "metadata": {},
   "source": [
    "### a) VANILLA KNN ALGORITHM"
   ]
  },
  {
   "cell_type": "code",
   "execution_count": 9,
   "metadata": {},
   "outputs": [],
   "source": [
    "def predict_class_VanillaKNN(trainX ,trainY ,q ,k,distance):\n",
    "    distance_array = np.zeros(shape=(len(trainX) ,))\n",
    "    #Iterating through all rows of the train X rows for calculating the distance measure\n",
    "    if distance == \"Euclidean\":\n",
    "        for index, observation in enumerate(trainX):\n",
    "            distance_array[index] = Euclidean_distance(q ,observation)\n",
    "    elif distance == \"Cosine\":\n",
    "        for index, observation in enumerate(trainX):\n",
    "            distance_array[index] = cosine_similarity(q ,observation)\n",
    "    elif distance == \"City Block\":\n",
    "        for index, observation in enumerate(trainX):\n",
    "            distance_array[index] = cityblock_distance(q ,observation)\n",
    "    #Extracting the k nearest rows based on distance value\n",
    "    k_min_distance = np.argsort(distance_array)[:k]\n",
    "    #Getting the classes of these nearest rows\n",
    "    k_nearest_class = trainY[k_min_distance]\n",
    "    #The predicted class is then the maximum occuring class\n",
    "    values, counts = np.unique(k_nearest_class.ravel(), return_counts=True)\n",
    "    predicted_class = values[np.argmax(counts)]\n",
    "    #Returning the Predicted class\n",
    "    return predicted_class"
   ]
  },
  {
   "attachments": {},
   "cell_type": "markdown",
   "metadata": {},
   "source": [
    "        2. Experiment with k = [1, 2, 3, 4, 5, 7] for Vanilla Knn and report your accuracy on the test set. Furthermore Report the runtime.\n",
    "        3. Experiment with distance=[cosine,euclidean,cityblock]"
   ]
  },
  {
   "cell_type": "code",
   "execution_count": 10,
   "metadata": {},
   "outputs": [
    {
     "name": "stdout",
     "output_type": "stream",
     "text": [
      "Accuracy for k =  1  is:  55.00000000000001\n",
      " Runtime For  1  Nearest Neighbours is :\t 0.7657620906829834\n",
      "\n",
      "\n",
      "Accuracy for k =  2  is:  50.5\n",
      " Runtime For  2  Nearest Neighbours is :\t 0.7640841007232666\n",
      "\n",
      "\n",
      "Accuracy for k =  3  is:  55.00000000000001\n",
      " Runtime For  3  Nearest Neighbours is :\t 0.7641582489013672\n",
      "\n",
      "\n",
      "Accuracy for k =  4  is:  59.0\n",
      " Runtime For  4  Nearest Neighbours is :\t 0.7658138275146484\n",
      "\n",
      "\n",
      "Accuracy for k =  5  is:  61.0\n",
      " Runtime For  5  Nearest Neighbours is :\t 0.7616889476776123\n",
      "\n",
      "\n",
      "Accuracy for k =  6  is:  59.0\n",
      " Runtime For  6  Nearest Neighbours is :\t 0.7586648464202881\n",
      "\n",
      "\n",
      "Accuracy for k =  7  is:  60.0\n",
      " Runtime For  7  Nearest Neighbours is :\t 0.7621660232543945\n",
      "\n",
      "\n"
     ]
    },
    {
     "data": {
      "image/png": "[encoded data removed]",
      "text/plain": [
       "<Figure size 1440x720 with 1 Axes>"
      ]
     },
     "metadata": {
      "needs_background": "light"
     },
     "output_type": "display_data"
    },
    {
     "name": "stdout",
     "output_type": "stream",
     "text": [
      "Accuracy for k = 3 and with COSINE SIMILARITY is:  60.0\n",
      "Accuracy for k = 3 and with CITY BLOCK DISTANCE is:  60.0\n"
     ]
    }
   ],
   "source": [
    "#Creating a accuracy matrix which will contain the accuracy for each combination of K classification and K Imputation\n",
    "accuracies = []\n",
    "ks = range(1,8)\n",
    "#Iterating through different values of K for KNN Classification, Picking K from [1,2,3,4,5]\n",
    "for k in ks:\n",
    "    start = time.time()\n",
    "    #Creating an array to store the predicated classes for validation set\n",
    "    predicted_class_val = []\n",
    "    #Iterating through each observation in the Validation set\n",
    "    for x_val in X_test:\n",
    "        #Predicting the class of validation row using the specific K and Train set\n",
    "        pred_class = predict_class_VanillaKNN(X_train, y_train, x_val, k,\"Euclidean\")\n",
    "        #Appending the predicted class to the created array\n",
    "        predicted_class_val.append(pred_class)\n",
    "\n",
    "    #Now calculating the total accuracy of the Validation set\n",
    "    accuracy = accuracy_knn_classification(predicted_class_val, y_test.ravel())\n",
    "    print(\"Accuracy for k = \",k,\" is: \", accuracy)\n",
    "    accuracies.append(accuracy)\n",
    "    end = time.time()\n",
    "    print(\" Runtime For \",k,\" Nearest Neighbours is :\\t\",(end-start))\n",
    "    print(\"\\n\")\n",
    "\n",
    "# Visualize accuracy vs. k\n",
    "plt.figure(figsize=(20,10))\n",
    "# fig, ax = plt.subplots()\n",
    "plt.plot(ks, accuracies)\n",
    "plt.xlabel(\"k - Nearest Neighbours\")\n",
    "plt.ylabel(\"Accuracy wrt different values of k\")       \n",
    "plt.title(\"Performance of knn\") \n",
    "plt.show()\n",
    "\n",
    "predicted_class_val1 = []\n",
    "    #Iterating through each observation in the Validation set\n",
    "for x_val in X_test:\n",
    "    #Predicting the class of validation row using the specific K and Train set\n",
    "    pred_class1 = predict_class_VanillaKNN(X_train, y_train, x_val, 3,distance =\"Cosine\")\n",
    "    #Appending the predicted class to the created array\n",
    "    predicted_class_val1.append(pred_class)\n",
    "\n",
    "#Now calculating the total accuracy of the Validation set\n",
    "accuracy = accuracy_knn_classification(predicted_class_val, y_test.ravel())\n",
    "print(\"Accuracy for k = 3 and with COSINE SIMILARITY is: \", accuracy)\n",
    "\n",
    "predicted_class_val2 = []\n",
    "    #Iterating through each observation in the Validation set\n",
    "for x_val in X_test:\n",
    "    #Predicting the class of validation row using the specific K and Train set\n",
    "    pred_class2 = predict_class_VanillaKNN(X_train, y_train, x_val, 3,distance =\"City Block\")\n",
    "    #Appending the predicted class to the created array\n",
    "    predicted_class_val2.append(pred_class)\n",
    "\n",
    "#Now calculating the total accuracy of the Validation set\n",
    "accuracy = accuracy_knn_classification(predicted_class_val, y_test.ravel())\n",
    "print(\"Accuracy for k = 3 and with CITY BLOCK DISTANCE is: \", accuracy)"
   ]
  },
  {
   "attachments": {},
   "cell_type": "markdown",
   "metadata": {},
   "source": [
    "### b) PARTIAL DISTANCE OR LOWER BOUND ALGORITHM"
   ]
  },
  {
   "cell_type": "code",
   "execution_count": 11,
   "metadata": {},
   "outputs": [],
   "source": [
    "def predict_class_partialDistance(trainX,trainY, query, k,distance_metric):\n",
    "\n",
    "    #Creating an array to store distances of k nearest neighbours\n",
    "    distance_array_k = np.zeros(shape=(k,), dtype='i,i')\n",
    "    \n",
    "    if distance_metric == \"Cosine\":\n",
    "        #Iterating first through the first K rows to find the nearest neighbour to the quering row\n",
    "        for index, row in enumerate(trainX[:k,:]):\n",
    "            distance_array_k[index] = (index, cosine_similarity(query ,row))\n",
    "        #Sorting the distance array based on distance so that we can check for better neighbour later\n",
    "        distance_array_k = sorted(distance_array_k, key=lambda x:x[1])\n",
    "        #Now Iterating through all rows after first K rows\n",
    "        for index, row in enumerate(trainX[k:,:]):\n",
    "            #Initializing variable for distance and taken features\n",
    "            distance = 0\n",
    "            m = 1  \n",
    "            #we have to iterate until we have calculate the distance with respect to every feature and the calculated distance is smaller than previous\n",
    "            while m < trainX.shape[1] & distance <  cosine_similarity(query[:m], row[:m]):  \n",
    "                #Adding the distance to the variable\n",
    "                distance += np.sum(np.square(query[:m] , row[:m]))\n",
    "                #Incrementing the variable m which indicates that in next iteration we have to take one more feature for calculating distance\n",
    "                m += 1\n",
    "            #Checking if our calculated distance is better than the distance calculated before with all features\n",
    "            if distance < cosine_similarity(query ,row):\n",
    "                #If yes, than appending that row to our K nearest neighbour distance array\n",
    "                temp_arr = distance_array_k.copy()\n",
    "                temp_arr.append((index,distance))\n",
    "                # print('temp arr: ', temp_arr)\n",
    "                temp_arr = sorted(temp_arr, key=lambda x:x[1])\n",
    "                # print('Sorted temp arr: ', temp_arr)\n",
    "                distance_array_k = temp_arr[:-1]\n",
    "    \n",
    "    elif distance_metric == \"Euclidean\":\n",
    "        for index, row in enumerate(trainX[:k,:]):\n",
    "            distance_array_k[index] = (index, Euclidean_distance(query ,row)) \n",
    "        #Sorting the distance array based on distance so that we can check for better neighbour later\n",
    "        distance_array_k = sorted(distance_array_k, key=lambda x:x[1])\n",
    "        #Now Iterating through all rows after first K rows\n",
    "        for index, row in enumerate(trainX[k:,:]):\n",
    "            #Initializing variable for distance and taken features\n",
    "            distance = 0\n",
    "            m = 1\n",
    "            #we have to iterate until we have calculate the distance with respect to every feature and the calculated distance is smaller than previous\n",
    "            while m < trainX.shape[1] & distance <  Euclidean_distance(query[:m], row[:m]):\n",
    "                #Adding the distance to the variable\n",
    "                distance += np.sum(np.square(query[:m] , row[:m]))\n",
    "                #Incrementing the variable m which indicates that in next iteration we have to take one more feature for calculating distance\n",
    "                m += 1\n",
    "            #Checking if our calculated distance is better than the distance calculated before with all features\n",
    "            if distance < Euclidean_distance(query ,row):\n",
    "                #If yes, than appending that row to our K nearest neighbour distance array\n",
    "                temp_arr = distance_array_k.copy()\n",
    "                temp_arr.append((index,distance))\n",
    "                # print('temp arr: ', temp_arr)\n",
    "                temp_arr = sorted(temp_arr, key=lambda x:x[1])\n",
    "                # print('Sorted temp arr: ', temp_arr)\n",
    "                distance_array_k = temp_arr[:-1]\n",
    "    \n",
    "    elif distance_metric == \"City Block\":   \n",
    "        for index, row in enumerate(trainX[:k,:]):\n",
    "            distance_array_k[index] = (index, cityblock_distance(query ,row))\n",
    "        #Sorting the distance array based on distance so that we can check for better neighbour later\n",
    "        distance_array_k = sorted(distance_array_k, key=lambda x:x[1])\n",
    "        #Now Iterating through all rows after first K rows\n",
    "        for index, row in enumerate(trainX[k:,:]):\n",
    "            #Initializing variable for distance and taken features\n",
    "            distance = 0\n",
    "            m = 1\n",
    "            #we have to iterate until we have calculate the distance with respect to every feature and the calculated distance is smaller than previous\n",
    "            while m < trainX.shape[1] & distance <  cityblock_distance(query[:m], row[:m]):\n",
    "                #Adding the distance to the variable\n",
    "                distance += np.sum(np.square(query[:m] , row[:m]))\n",
    "                #Incrementing the variable m which indicates that in next iteration we have to take one more feature for calculating distance\n",
    "                m += 1                \n",
    "            #Checking if our calculated distance is better than the distance calculated before with all features\n",
    "            if distance < cityblock_distance(query ,row):\n",
    "                #If yes, than appending that row to our K nearest neighbour distance array\n",
    "                temp_arr = distance_array_k.copy()\n",
    "                temp_arr.append((index,distance))\n",
    "                # print('temp arr: ', temp_arr)\n",
    "                temp_arr = sorted(temp_arr, key=lambda x:x[1])\n",
    "                # print('Sorted temp arr: ', temp_arr)\n",
    "                distance_array_k = temp_arr[:-1]\n",
    "    \n",
    "    #Getting the classes of these nearest rows\n",
    "    k_nearest_class = trainY[[i[0] for i in distance_array_k]]\n",
    "    #The predicted class is then the maximum occuring class\n",
    "    values, counts = np.unique(k_nearest_class, return_counts=True)\n",
    "    predicted_class = values[np.argmax(counts)]    \n",
    "    #Returning the Predicted class\n",
    "    return predicted_class  "
   ]
  },
  {
   "attachments": {},
   "cell_type": "markdown",
   "metadata": {},
   "source": [
    "        2. Experiment with k = [1, 2, 3, 4, 5, 7] for Partial Distance Knn and report your accuracy on the test set. Furthermore Report the runtime.\n",
    "        3. Experiment with distance=[cosine,euclidean,cityblock]"
   ]
  },
  {
   "cell_type": "code",
   "execution_count": 12,
   "metadata": {},
   "outputs": [
    {
     "name": "stdout",
     "output_type": "stream",
     "text": [
      "Accuracy for k =  1  is:  30.5\n",
      " Runtime For  7  Nearest Neighbours is :\t 0.9131240844726562\n",
      "\n",
      "\n",
      "Accuracy for k =  2  is:  31.5\n",
      " Runtime For  7  Nearest Neighbours is :\t 0.920386791229248\n",
      "\n",
      "\n",
      "Accuracy for k =  3  is:  31.5\n",
      " Runtime For  7  Nearest Neighbours is :\t 0.9395110607147217\n",
      "\n",
      "\n",
      "Accuracy for k =  4  is:  31.5\n",
      " Runtime For  7  Nearest Neighbours is :\t 0.9489710330963135\n",
      "\n",
      "\n",
      "Accuracy for k =  5  is:  31.5\n",
      " Runtime For  7  Nearest Neighbours is :\t 0.9550080299377441\n",
      "\n",
      "\n",
      "Accuracy for k =  6  is:  31.5\n",
      " Runtime For  7  Nearest Neighbours is :\t 0.9642748832702637\n",
      "\n",
      "\n",
      "Accuracy for k =  7  is:  31.5\n",
      " Runtime For  7  Nearest Neighbours is :\t 0.9698669910430908\n",
      "\n",
      "\n"
     ]
    },
    {
     "data": {
      "image/png": "[encoded data removed]",
      "text/plain": [
       "<Figure size 1440x720 with 1 Axes>"
      ]
     },
     "metadata": {
      "needs_background": "light"
     },
     "output_type": "display_data"
    },
    {
     "name": "stdout",
     "output_type": "stream",
     "text": [
      "Accuracy for k = 3 and with COSINE SIMILARITY is:  31.5\n",
      "Accuracy for k = 3 and with CITY BLOCK DISTANCE is:  31.5\n"
     ]
    }
   ],
   "source": [
    "#Creating a accuracy matrix which will contain the accuracy for each combination of K classification and K Imputation\n",
    "accuracies = []\n",
    "ks = range(1,8)\n",
    "#Iterating through different values of K for KNN Classification, Picking K from [1,2,3,4,5]\n",
    "for k_classification in range(1, 8):\n",
    "    start = time.time()\n",
    "    #Creating an array to store the predicated classes for validation set\n",
    "    predicted_class_val = []\n",
    "    #Iterating through each observation in the Validation set\n",
    "    for x_val in X_test:\n",
    "        #Predicting the class of validation row using the specific K and Train set\n",
    "        pred_class = predict_class_partialDistance(X_train, y_train, x_val, k_classification,\"Euclidean\")\n",
    "        #Appending the predicted class to the created array\n",
    "        predicted_class_val.append(pred_class)\n",
    "\n",
    "    #Now calculating the total accuracy of the Validation set\n",
    "    accuracy = accuracy_knn_classification(predicted_class_val, y_test.ravel())\n",
    "    print(\"Accuracy for k = \",k_classification,\" is: \", accuracy)\n",
    "    accuracies.append(accuracy)\n",
    "    end = time.time()\n",
    "    print(\" Runtime For \",k,\" Nearest Neighbours is :\\t\",(end-start))\n",
    "    print(\"\\n\")\n",
    "\n",
    "# Visualize accuracy vs. k\n",
    "plt.figure(figsize=(20,10))\n",
    "# fig, ax = plt.subplots()\n",
    "plt.plot(ks, accuracies)\n",
    "plt.xlabel(\"k - Nearest Neighbours\")\n",
    "plt.ylabel(\"Accuracy wrt different values of k\")       \n",
    "plt.title(\"Performance of Partial Distance KNN Algorithm\") \n",
    "plt.show()\n",
    "\n",
    "## PARTIAL DISTANCE ALGORITHM USING COSINE SIMILARITY MEASURE\n",
    "predicted_class_val1 = []\n",
    "    #Iterating through each observation in the Validation set\n",
    "for x_val in X_test:\n",
    "    #Predicting the class of validation row using the specific K and Train set\n",
    "    pred_class1 = predict_class_partialDistance(X_train, y_train, x_val, 3,distance_metric =\"Cosine\")\n",
    "    #Appending the predicted class to the created array\n",
    "    predicted_class_val1.append(pred_class)\n",
    "\n",
    "#Now calculating the total accuracy of the Validation set\n",
    "accuracy = accuracy_knn_classification(predicted_class_val, y_test.ravel())\n",
    "print(\"Accuracy for k = 3 and with COSINE SIMILARITY is: \", accuracy)\n",
    "\n",
    "\n",
    "## PARTIAL DISTANCE ALGORITHM USING CITY BLOCK MEASURE\n",
    "predicted_class_val2 = []\n",
    "    #Iterating through each observation in the Validation set\n",
    "for x_val in X_test:\n",
    "    #Predicting the class of validation row using the specific K and Train set\n",
    "    pred_class2 = predict_class_partialDistance(X_train, y_train, x_val, 3,distance_metric =\"City Block\")\n",
    "    #Appending the predicted class to the created array\n",
    "    predicted_class_val2.append(pred_class)\n",
    "\n",
    "#Now calculating the total accuracy of the Validation set\n",
    "accuracy = accuracy_knn_classification(predicted_class_val, y_test.ravel())\n",
    "print(\"Accuracy for k = 3 and with CITY BLOCK DISTANCE is: \", accuracy)"
   ]
  },
  {
   "attachments": {},
   "cell_type": "markdown",
   "metadata": {},
   "source": [
    "### c) LOCALITY SENSITIVE HASHING ALGORITHM"
   ]
  },
  {
   "cell_type": "code",
   "execution_count": 13,
   "metadata": {},
   "outputs": [],
   "source": [
    "def Get_Hash_Values(random_vector, observation):\n",
    "    #For each value of dot product, we will check if the value is greater than 0 or not and appending it as a string\n",
    "    hash_value = ''.join((np.dot(random_vector, observation) > 0).astype('int').astype('str'))\n",
    "    #Returning the final hash value\n",
    "    return hash_value"
   ]
  },
  {
   "cell_type": "code",
   "execution_count": 14,
   "metadata": {},
   "outputs": [],
   "source": [
    "def Generate_HastTable(trainX, k):\n",
    "    #Creating k different Random vectors to denote k different hyperplanes\n",
    "    random_vectors = np.random.randn(k,len(trainX[0]))\n",
    "    #Creating and Initializing an empty hash table to store my hash values for training rows\n",
    "    hashtable = [] \n",
    "    ##Iterating through all training rows and storing there hash values in the hash table\n",
    "    for index , row in enumerate(trainX):\n",
    "        #Calculating hash value of training row using Get_Hash_Values\n",
    "        hashvalue = Get_Hash_Values(random_vectors, row)\n",
    "        #Appending the hash value to the hash table\n",
    "        hashtable.append(hashvalue) \n",
    "    #Returning the hash table and the random vectors\n",
    "    return hashtable , random_vectors"
   ]
  },
  {
   "cell_type": "code",
   "execution_count": 15,
   "metadata": {},
   "outputs": [],
   "source": [
    "def locally_sensitive_hashing(trainX, trainY, validationX, k):\n",
    "    #Creating and Populating Hash tables for training data and Creating the random vectors for Hashing\n",
    "    hashtable, random_vectors = Generate_HastTable(trainX, k)\n",
    "    #Creating and Initializing an empty array to store the predicted classes for the validation set\n",
    "    predicted_classes_val = []\n",
    "    #Iterating through all the rows in Validation set to Predict there classes\n",
    "    for index, val_row in enumerate(validationX):\n",
    "        #Calculating the hash value of the validation row\n",
    "        val_hash = Get_Hash_Values(random_vectors, val_row)\n",
    "        #Initializing the predicted class variable with None\n",
    "        val_predicted_class = None\n",
    "        try:\n",
    "            #Searching the hash table to find the index with the same hash value as the validation row\n",
    "            train_index = hashtable.index(val_hash)\n",
    "            #Extracting the class of training row which is close to the validation found using hash table\n",
    "            val_predicted_class = trainY[train_index]\n",
    "        except:\n",
    "            #Assiging class to infinity since we were not able find the class using LSH method\n",
    "            val_predicted_class = np.iinfo(np.int32).max    \n",
    "        #Appending the predicted class to the array\n",
    "        predicted_classes_val.append(val_predicted_class)    \n",
    "    #Returning the predicted class array\n",
    "    return predicted_classes_val, hashtable"
   ]
  },
  {
   "attachments": {},
   "cell_type": "markdown",
   "metadata": {},
   "source": [
    "        2. Experiment with k = [1, 2, 3, 4, 5, 7] for Locality Sensitive Hashing Knn and report your accuracy on the test set. Furthermore Report the runtime."
   ]
  },
  {
   "cell_type": "code",
   "execution_count": 16,
   "metadata": {},
   "outputs": [
    {
     "name": "stdout",
     "output_type": "stream",
     "text": [
      "Accuracy for k =  1  is:  34.0\n",
      " Runtime For  1  Nearest Neighbours is :\t 0.01065373420715332\n",
      "\n",
      "\n",
      "Accuracy for k =  2  is:  37.0\n",
      " Runtime For  2  Nearest Neighbours is :\t 0.011725902557373047\n",
      "\n",
      "\n",
      "Accuracy for k =  3  is:  36.0\n",
      " Runtime For  3  Nearest Neighbours is :\t 0.008214950561523438\n",
      "\n",
      "\n",
      "Accuracy for k =  4  is:  37.5\n",
      " Runtime For  4  Nearest Neighbours is :\t 0.010743141174316406\n",
      "\n",
      "\n",
      "Accuracy for k =  5  is:  40.5\n",
      " Runtime For  5  Nearest Neighbours is :\t 0.010493993759155273\n",
      "\n",
      "\n",
      "Accuracy for k =  6  is:  33.0\n",
      " Runtime For  6  Nearest Neighbours is :\t 0.009041309356689453\n",
      "\n",
      "\n",
      "Accuracy for k =  7  is:  42.0\n",
      " Runtime For  7  Nearest Neighbours is :\t 0.009888887405395508\n",
      "\n",
      "\n"
     ]
    },
    {
     "data": {
      "image/png": "[encoded data removed]",
      "text/plain": [
       "<Figure size 1440x720 with 1 Axes>"
      ]
     },
     "metadata": {
      "needs_background": "light"
     },
     "output_type": "display_data"
    }
   ],
   "source": [
    "#Creating a accuracy matrix which will contain the accuracy for each combination of K classification and K Imputation\n",
    "accuracies = []\n",
    "ks = range(1,8)\n",
    "#Iterating through different values of K for KNN Classification, Picking K from [1,2,3,4,5]\n",
    "for k in ks:\n",
    "    start = time.time()\n",
    "    #Creating an array to store the predicated classes for validation set\n",
    "    predicted_class_val = []\n",
    "    #Predicting the class of validation row using the specific K and Train set\n",
    "    predicted_class_val, hashtable = locally_sensitive_hashing(X_train, y_train, X_test, k)\n",
    "    #Now calculating the total accuracy of the Validation set\n",
    "    accuracy = accuracy_knn_classification(predicted_class_val, y_test.ravel())\n",
    "    print(\"Accuracy for k = \",k,\" is: \", accuracy)\n",
    "    #Saving the accuracy in our Accuracy Matrix for current Combination\n",
    "    accuracies.append(accuracy)\n",
    "    end = time.time()\n",
    "    print(\" Runtime For \",k,\" Nearest Neighbours is :\\t\",(end-start))\n",
    "    print(\"\\n\")\n",
    "\n",
    "# Visualize accuracy vs. k\n",
    "plt.figure(figsize=(20,10))\n",
    "# fig, ax = plt.subplots()\n",
    "plt.plot(ks, accuracies)\n",
    "plt.xlabel(\"k - Nearest Neighbours\")\n",
    "plt.ylabel(\"Accuracy wrt different values of k\")       \n",
    "plt.title(\"Performance of Locality Sensitve Hashing KNN Algorithm\") \n",
    "plt.show()"
   ]
  },
  {
   "attachments": {},
   "cell_type": "markdown",
   "metadata": {},
   "source": [
    "#### 4. How is the NN algorithm different from the algorithms we have studied so far?"
   ]
  },
  {
   "attachments": {},
   "cell_type": "markdown",
   "metadata": {},
   "source": [
    "Other Machine Learning Algorithms compute the weight factors that conveys which features are the dominant predictors. NN Algorith does not require any correlations (linear relationship) between features and target variable, which is a requirement for Regression Algorithms . NN is slow to implement as it relies on calculating the distance between all vector instances, which can be very time-consuming for large datasets with hundreds of features and thousands of observations."
   ]
  },
  {
   "cell_type": "markdown",
   "metadata": {},
   "source": []
  }
 ],
 "metadata": {
  "kernelspec": {
   "display_name": "Python 3",
   "language": "python",
   "name": "python3"
  },
  "language_info": {
   "codemirror_mode": {
    "name": "ipython",
    "version": 3
   },
   "file_extension": ".py",
   "mimetype": "text/x-python",
   "name": "python",
   "nbconvert_exporter": "python",
   "pygments_lexer": "ipython3",
   "version": "3.9.13 (main, May 24 2022, 21:13:51) \n[Clang 13.1.6 (clang-1316.0.21.2)]"
  },
  "orig_nbformat": 4,
  "vscode": {
   "interpreter": {
    "hash": "b0fa6594d8f4cbf19f97940f81e996739fb7646882a419484c72d19e05852a7e"
   }
  }
 },
 "nbformat": 4,
 "nbformat_minor": 2
}
